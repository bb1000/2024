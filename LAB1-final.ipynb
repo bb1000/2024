{
 "cells": [
  {
   "cell_type": "markdown",
   "metadata": {},
   "source": [
    "# LAB1\n",
    "In this lab you are going to create a class. In the cell below you can find a series of functions and dictionnary from the previous lab.\n"
   ]
  },
  {
   "cell_type": "code",
   "execution_count": 1,
   "metadata": {},
   "outputs": [],
   "source": [
    "genetic_code = {\n",
    "    'ATA':'I', 'ATC':'I', 'ATT':'I', 'ATG':'M',\n",
    "    'ACA':'T', 'ACC':'T', 'ACG':'T', 'ACT':'T',\n",
    "    'AAC':'N', 'AAT':'N', 'AAA':'K', 'AAG':'K',\n",
    "    'AGC':'S', 'AGT':'S', 'AGA':'R', 'AGG':'R',\n",
    "    'CTA':'L', 'CTC':'L', 'CTG':'L', 'CTT':'L',\n",
    "    'CCA':'P', 'CCC':'P', 'CCG':'P', 'CCT':'P',\n",
    "    'CAC':'H', 'CAT':'H', 'CAA':'Q', 'CAG':'Q',\n",
    "    'CGA':'R', 'CGC':'R', 'CGG':'R', 'CGT':'R',\n",
    "    'GTA':'V', 'GTC':'V', 'GTG':'V', 'GTT':'V',\n",
    "    'GCA':'A', 'GCC':'A', 'GCG':'A', 'GCT':'A',\n",
    "    'GAC':'D', 'GAT':'D', 'GAA':'E', 'GAG':'E',\n",
    "    'GGA':'G', 'GGC':'G', 'GGG':'G', 'GGT':'G',\n",
    "    'TCA':'S', 'TCC':'S', 'TCG':'S', 'TCT':'S',\n",
    "    'TTC':'F', 'TTT':'F', 'TTA':'L', 'TTG':'L',\n",
    "    'TAC':'Y', 'TAT':'Y', 'TAA':'_', 'TAG':'_',\n",
    "    'TGC':'C', 'TGT':'C', 'TGA':'_', 'TGG':'W',\n",
    "}\n",
    "\n",
    "amino_acid = {\n",
    "    'A':'Ala', 'R':'Arg', 'N':'Asn', 'D':'Asp', 'C':'Cys', 'E':'Glu', 'Q':'Gln', 'G':'Gly', 'H':'His', 'I':'Ile',\n",
    "    'L':'Leu', 'K':'Lys', 'M':'Met', 'F':'Phe', 'P':'Pro', 'S':'Ser', 'T':'Thr', 'W':'Trp', 'Y':'Tyr', 'V':'Val', '_':'Stop'\n",
    "}\n",
    "\n",
    "def fasta2string(fasta_file):\n",
    "    with open(fasta_file, 'r') as f:\n",
    "        data = f.read()\n",
    "        isoforms = data.split('>')\n",
    "        first_isoform = isoforms[1]\n",
    "        lines = first_isoform.split('\\n')\n",
    "        protein = ''.join(lines[1:])\n",
    "    return protein\n",
    "\n",
    "def dna2protein(dna):\n",
    "    protein = ''\n",
    "    for i in range(0, len(dna), 3):\n",
    "        codon = dna[i:i+3]\n",
    "        protein += genetic_code[codon]\n",
    "    return protein\n",
    "\n",
    "def compare_sequence_1letter(seq1,seq2):\n",
    "    if len(seq1)!= len(seq2):\n",
    "        print(\"The sequences are not the same length\")\n",
    "        return\n",
    "    else:\n",
    "        tot_mut = 0\n",
    "        for i in range(len(seq1)):\n",
    "            if seq1[i]!= seq2[i]:\n",
    "                print(f\"The mutation is at position {i+1} and the mutation is {seq1[i]} to {seq2[i]}\")\n",
    "                tot_mut += 1\n",
    "            else:\n",
    "                continue\n",
    "    print('The total number of mutation is: '+str(tot_mut) )\n",
    "\n",
    "def compare_sequence_3letters(seq1,seq2):\n",
    "    if len(seq1)!= len(seq2):\n",
    "        print(\"The sequences are not the same length\")\n",
    "        return\n",
    "    else:\n",
    "        tot_mut = 0\n",
    "        for i in range(len(seq1)):\n",
    "            if seq1[i]!= seq2[i]:\n",
    "                print(f\"The mutation is at position {i+1} and the mutation is {amino_acid[seq1[i]]} in the first sequence to {amino_acid[seq2[i]]} in the second sequence\")\n",
    "                tot_mut += 1\n",
    "            else:\n",
    "                continue\n",
    "    print('The total number of mutation is: '+str(tot_mut))\n",
    "\n",
    "\n",
    "\n"
   ]
  },
  {
   "cell_type": "code",
   "execution_count": 2,
   "metadata": {},
   "outputs": [
    {
     "ename": "FileNotFoundError",
     "evalue": "[Errno 2] No such file or directory: 'ADH4human.txt'",
     "output_type": "error",
     "traceback": [
      "\u001b[0;31m---------------------------------------------------------------------------\u001b[0m",
      "\u001b[0;31mFileNotFoundError\u001b[0m                         Traceback (most recent call last)",
      "Cell \u001b[0;32mIn[2], line 1\u001b[0m\n\u001b[0;32m----> 1\u001b[0m dna_h \u001b[38;5;241m=\u001b[39m \u001b[43mfasta2string\u001b[49m\u001b[43m(\u001b[49m\u001b[38;5;124;43m'\u001b[39;49m\u001b[38;5;124;43mADH4human.txt\u001b[39;49m\u001b[38;5;124;43m'\u001b[39;49m\u001b[43m)\u001b[49m\n\u001b[1;32m      2\u001b[0m dna_o \u001b[38;5;241m=\u001b[39m fasta2string(\u001b[38;5;124m'\u001b[39m\u001b[38;5;124mADH4orangotan.txt\u001b[39m\u001b[38;5;124m'\u001b[39m)\n\u001b[1;32m      3\u001b[0m protein_h \u001b[38;5;241m=\u001b[39m dna2protein(dna_h)\n",
      "Cell \u001b[0;32mIn[1], line 26\u001b[0m, in \u001b[0;36mfasta2string\u001b[0;34m(fasta_file)\u001b[0m\n\u001b[1;32m     25\u001b[0m \u001b[38;5;28;01mdef\u001b[39;00m \u001b[38;5;21mfasta2string\u001b[39m(fasta_file):\n\u001b[0;32m---> 26\u001b[0m     \u001b[38;5;28;01mwith\u001b[39;00m \u001b[38;5;28;43mopen\u001b[39;49m\u001b[43m(\u001b[49m\u001b[43mfasta_file\u001b[49m\u001b[43m,\u001b[49m\u001b[43m \u001b[49m\u001b[38;5;124;43m'\u001b[39;49m\u001b[38;5;124;43mr\u001b[39;49m\u001b[38;5;124;43m'\u001b[39;49m\u001b[43m)\u001b[49m \u001b[38;5;28;01mas\u001b[39;00m f:\n\u001b[1;32m     27\u001b[0m         data \u001b[38;5;241m=\u001b[39m f\u001b[38;5;241m.\u001b[39mread()\n\u001b[1;32m     28\u001b[0m         isoforms \u001b[38;5;241m=\u001b[39m data\u001b[38;5;241m.\u001b[39msplit(\u001b[38;5;124m'\u001b[39m\u001b[38;5;124m>\u001b[39m\u001b[38;5;124m'\u001b[39m)\n",
      "File \u001b[0;32m~/.venvs/61405/lib/python3.12/site-packages/IPython/core/interactiveshell.py:310\u001b[0m, in \u001b[0;36m_modified_open\u001b[0;34m(file, *args, **kwargs)\u001b[0m\n\u001b[1;32m    303\u001b[0m \u001b[38;5;28;01mif\u001b[39;00m file \u001b[38;5;129;01min\u001b[39;00m {\u001b[38;5;241m0\u001b[39m, \u001b[38;5;241m1\u001b[39m, \u001b[38;5;241m2\u001b[39m}:\n\u001b[1;32m    304\u001b[0m     \u001b[38;5;28;01mraise\u001b[39;00m \u001b[38;5;167;01mValueError\u001b[39;00m(\n\u001b[1;32m    305\u001b[0m         \u001b[38;5;124mf\u001b[39m\u001b[38;5;124m\"\u001b[39m\u001b[38;5;124mIPython won\u001b[39m\u001b[38;5;124m'\u001b[39m\u001b[38;5;124mt let you open fd=\u001b[39m\u001b[38;5;132;01m{\u001b[39;00mfile\u001b[38;5;132;01m}\u001b[39;00m\u001b[38;5;124m by default \u001b[39m\u001b[38;5;124m\"\u001b[39m\n\u001b[1;32m    306\u001b[0m         \u001b[38;5;124m\"\u001b[39m\u001b[38;5;124mas it is likely to crash IPython. If you know what you are doing, \u001b[39m\u001b[38;5;124m\"\u001b[39m\n\u001b[1;32m    307\u001b[0m         \u001b[38;5;124m\"\u001b[39m\u001b[38;5;124myou can use builtins\u001b[39m\u001b[38;5;124m'\u001b[39m\u001b[38;5;124m open.\u001b[39m\u001b[38;5;124m\"\u001b[39m\n\u001b[1;32m    308\u001b[0m     )\n\u001b[0;32m--> 310\u001b[0m \u001b[38;5;28;01mreturn\u001b[39;00m \u001b[43mio_open\u001b[49m\u001b[43m(\u001b[49m\u001b[43mfile\u001b[49m\u001b[43m,\u001b[49m\u001b[43m \u001b[49m\u001b[38;5;241;43m*\u001b[39;49m\u001b[43margs\u001b[49m\u001b[43m,\u001b[49m\u001b[43m \u001b[49m\u001b[38;5;241;43m*\u001b[39;49m\u001b[38;5;241;43m*\u001b[39;49m\u001b[43mkwargs\u001b[49m\u001b[43m)\u001b[49m\n",
      "\u001b[0;31mFileNotFoundError\u001b[0m: [Errno 2] No such file or directory: 'ADH4human.txt'"
     ]
    }
   ],
   "source": [
    "dna_h = fasta2string('ADH4human.txt')\n",
    "dna_o = fasta2string('ADH4orangotan.txt')\n",
    "protein_h = dna2protein(dna_h)\n",
    "protein_o = dna2protein(dna_o)\n",
    "print(protein_o)\n",
    "print(protein_h)"
   ]
  },
  {
   "cell_type": "code",
   "execution_count": null,
   "metadata": {},
   "outputs": [],
   "source": [
    "compare_sequence_1letter(protein_h,protein_o)"
   ]
  },
  {
   "cell_type": "code",
   "execution_count": null,
   "metadata": {},
   "outputs": [],
   "source": [
    "compare_sequence_3letters(protein_h,protein_o)"
   ]
  },
  {
   "cell_type": "markdown",
   "metadata": {},
   "source": [
    "## Create a class called FastaCompare\n",
    "Create a class called FastaCompare. In this class you will put all the functions and the genetic code and amino acid dictionnaries that you have created before. You can also create a compare functions in this class. \n",
    "Here is a partial header of what this class can look like.\n",
    "```\n",
    "class FastaCompare:\n",
    "    def __init__(self, file1, file2):\n",
    "        self.file1 = \n",
    "        self.file2 = \n",
    "        self.dna1 = self. ..\n",
    "        self.dna2 = \n",
    "        self.protein1 = \n",
    "        self.protein2 = \n",
    "    \n",
    "    def compare_1L(self):\n",
    "        self.compare_sequence_1letter(self.protein1, self.protein2)\n",
    "\n",
    "    def compare_3L(self):\n",
    "        self.compare_sequence_3letters(self.protein1, self.protein2)    \n",
    "```\n",
    "\n"
   ]
  },
  {
   "cell_type": "code",
   "execution_count": null,
   "metadata": {},
   "outputs": [],
   "source": [
    "\n",
    "\n",
    "\n"
   ]
  },
  {
   "cell_type": "markdown",
   "metadata": {},
   "source": [
    "# Use the class\n",
    "run the compare function in the FastaCompare class that will extract the first isoform from two fasta files and print a report about the position of the mutation as well the changes ( 1 and 3 letters code)"
   ]
  },
  {
   "cell_type": "code",
   "execution_count": null,
   "metadata": {},
   "outputs": [],
   "source": [
    "\n"
   ]
  },
  {
   "cell_type": "code",
   "execution_count": null,
   "metadata": {},
   "outputs": [],
   "source": []
  },
  {
   "cell_type": "code",
   "execution_count": null,
   "metadata": {},
   "outputs": [],
   "source": []
  }
 ],
 "metadata": {
  "kernelspec": {
   "display_name": "Python 3 (ipykernel)",
   "language": "python",
   "name": "python3"
  },
  "language_info": {
   "codemirror_mode": {
    "name": "ipython",
    "version": 3
   },
   "file_extension": ".py",
   "mimetype": "text/x-python",
   "name": "python",
   "nbconvert_exporter": "python",
   "pygments_lexer": "ipython3",
   "version": "3.12.0"
  }
 },
 "nbformat": 4,
 "nbformat_minor": 4
}

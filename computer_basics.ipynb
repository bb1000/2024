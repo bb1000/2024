{
 "cells": [
  {
   "cell_type": "markdown",
   "id": "d7f6250d-cd7d-433c-a1d7-1a067542e2c3",
   "metadata": {},
   "source": [
    "# Computer Basics"
   ]
  },
  {
   "cell_type": "code",
   "execution_count": 31,
   "id": "4d6c2fab-cbf3-4c68-ba1a-b8ebef83a4e3",
   "metadata": {},
   "outputs": [
    {
     "data": {
      "text/html": [
       "\n",
       "        <iframe\n",
       "            width=\"800\"\n",
       "            height=\"600\"\n",
       "            src=\"computer_basics.pdf\"\n",
       "            frameborder=\"0\"\n",
       "            allowfullscreen\n",
       "            \n",
       "        ></iframe>\n",
       "        "
      ],
      "text/plain": [
       "<IPython.lib.display.IFrame at 0x7fd1a2704260>"
      ]
     },
     "execution_count": 31,
     "metadata": {},
     "output_type": "execute_result"
    }
   ],
   "source": [
    "from IPython.display import IFrame\n",
    "IFrame(\"computer_basics.pdf\", width=\"800\", height=\"600\")"
   ]
  },
  {
   "cell_type": "code",
   "execution_count": null,
   "id": "e2da5c72-3da8-4eeb-85fe-28fec41ac2ac",
   "metadata": {},
   "outputs": [],
   "source": []
  }
 ],
 "metadata": {
  "kernelspec": {
   "display_name": "Python 3 (ipykernel)",
   "language": "python",
   "name": "python3"
  },
  "language_info": {
   "codemirror_mode": {
    "name": "ipython",
    "version": 3
   },
   "file_extension": ".py",
   "mimetype": "text/x-python",
   "name": "python",
   "nbconvert_exporter": "python",
   "pygments_lexer": "ipython3",
   "version": "3.12.0"
  }
 },
 "nbformat": 4,
 "nbformat_minor": 5
}

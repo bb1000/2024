{
 "cells": [
  {
   "cell_type": "markdown",
   "id": "288f0914-d7b1-49ac-a133-9d44d6171799",
   "metadata": {},
   "source": [
    "# Lecture 4: Numpy, branching and iterations, formats\n",
    "- *NumPy* library - powerful library on *NUM*erical *PY*thon\n",
    "- Array and matrix operation with NumPy\n",
    "- Branching and iterations\n",
    "- File formats, data formats, types of variables"
   ]
  },
  {
   "cell_type": "markdown",
   "id": "6a7159cc-6fba-4f92-a1dc-ad71a9f90aa6",
   "metadata": {},
   "source": [
    "## Quick start reminder:\n",
    "* Open terminal (Mac, Lin) / Anaconda Power Shell (Win)\n",
    "```\n",
    "% conda activate bb1000\n",
    "% cd MyWorkingDir\n",
    "% mkdir Lecture_4\n",
    "```\n",
    "- Download from Module 4 on Canvas `.jpynb` files (Lecture 4 notes and homework) and save them to your Lecture 4 working directory, e.g. `MyWorkingDirectory/Lecture4/`\n",
    "```\n",
    "% jupyter-lab\n",
    "```\n",
    "- Change your working directory to 'Lecture_4'\n",
    "- Open your working python notebook and rename it; open Lecture4_notes.ipynb for your reference"
   ]
  },
  {
   "cell_type": "markdown",
   "id": "2d2ebc63-cb3b-4d38-9af1-2a183b94eaea",
   "metadata": {},
   "source": [
    "## NumPy intorduction\n",
    "\n",
    "Python uses 'lists', which is slow, not very flexible and usually not enough for more advanced coding. Numerical Python (NumPy) library is the most used library for scientific computing. NumPy provides high-performance multidimensional array object and many tools for working with them. \n",
    "\n",
    "* Let us compare performance of Python versus NumPy:"
   ]
  },
  {
   "cell_type": "code",
   "execution_count": 3,
   "id": "88e546d6-0d44-48ab-ba9d-85b91582cb65",
   "metadata": {},
   "outputs": [
    {
     "name": "stdout",
     "output_type": "stream",
     "text": [
      "1000000 1000000\n"
     ]
    },
    {
     "data": {
      "text/plain": [
       "20"
      ]
     },
     "execution_count": 3,
     "metadata": {},
     "output_type": "execute_result"
    }
   ],
   "source": [
    "# Create a python list 'a' and an empty list 'b'\n",
    "a = list(range(1000000))\n",
    "b = [0] * 1000000\n",
    "print(len(a), len(b))\n",
    "a[20]"
   ]
  },
  {
   "cell_type": "code",
   "execution_count": 4,
   "id": "1ef759f0-4b00-4b11-bede-af2543e5e84a",
   "metadata": {},
   "outputs": [
    {
     "name": "stdout",
     "output_type": "stream",
     "text": [
      "65.7 ms ± 620 µs per loop (mean ± std. dev. of 7 runs, 10 loops each)\n"
     ]
    }
   ],
   "source": [
    "%%timeit\n",
    "\n",
    "# Let us compute b = a*a\n",
    "for i in range(len(a)):\n",
    "    b[i] = a[i] ** 2"
   ]
  },
  {
   "cell_type": "markdown",
   "id": "c77eab86-2c0f-4e46-8156-804fadcf9b35",
   "metadata": {},
   "source": [
    "* Now let us do the same with NumPy\n",
    "* The very first thing is to activate Numpy, e.g. import the library:"
   ]
  },
  {
   "cell_type": "code",
   "execution_count": 5,
   "id": "555d5837-b6a8-409b-a82b-3b4d8ac000f6",
   "metadata": {},
   "outputs": [],
   "source": [
    "import numpy as np\n",
    "\n",
    "# you can use any name you like instead of \"np\""
   ]
  },
  {
   "cell_type": "code",
   "execution_count": 6,
   "id": "ab3a5412-5326-4362-ae7c-22618263a381",
   "metadata": {},
   "outputs": [],
   "source": [
    "a = np.arange(1000000)\n",
    "b = np.zeros(1000000)"
   ]
  },
  {
   "cell_type": "code",
   "execution_count": 7,
   "id": "6029f437-9f45-4c31-82ff-251effd7a7a6",
   "metadata": {},
   "outputs": [
    {
     "name": "stdout",
     "output_type": "stream",
     "text": [
      "834 µs ± 12.2 µs per loop (mean ± std. dev. of 7 runs, 1,000 loops each)\n"
     ]
    }
   ],
   "source": [
    "%%timeit\n",
    "b = a**2"
   ]
  },
  {
   "cell_type": "markdown",
   "id": "68121921-09f4-46ec-82ee-2bee31924ad0",
   "metadata": {},
   "source": [
    "* NumPy aims to provide an array object that is up to 50x faster than traditional Python lists.\n",
    "* **Why is NumPy faster than lists?** \n",
    "* NumPy arrays are stored at one continuous place in memory unlike lists, so processes can access and manipulate them very efficiently.\n",
    "* It is known as **\"locality of reference\"** in computer science.\n",
    "* Moreover, NumPy is optimized to work with latest CPU architectures.\n",
    "* Avoid looping by using vector math. \n",
    "* Operations with array properties."
   ]
  },
  {
   "cell_type": "markdown",
   "id": "0c2625f4-810c-44d9-a76a-08d0770ab2bf",
   "metadata": {},
   "source": [
    "## Numpy math functions\n",
    "* `np.cos`, `np.log`, `np.exp`, etc.\n",
    "* The whole list can be found via [this link](https://numpy.org/doc/stable/reference/routines.math.html)"
   ]
  },
  {
   "cell_type": "code",
   "execution_count": 8,
   "id": "c5a6fd80-8214-49fe-99d4-a2e32c96bc5c",
   "metadata": {},
   "outputs": [
    {
     "name": "stdout",
     "output_type": "stream",
     "text": [
      "0.5000000000000001\n",
      "3.14159\n"
     ]
    }
   ],
   "source": [
    "print(np.cos(np.pi / 3))\n",
    "print(np.round(np.pi, 5))"
   ]
  },
  {
   "cell_type": "markdown",
   "id": "02ca9acd-17a9-4257-bfbc-abf1900c6602",
   "metadata": {},
   "source": [
    "## NumPy arrays\n",
    "\n",
    "* You can find out most detailes on Numpy arrays at [W3School pages](https://www.w3schools.com/python/numpy/numpy_creating_arrays.asp).\n",
    "* You always start with importing Numpy at the beginning of Notebook. As we already did so above, no need to put in every new cell\n"
   ]
  },
  {
   "cell_type": "code",
   "execution_count": 9,
   "id": "5bef86ed-2a8e-4c2b-adaa-a2120d0d57e5",
   "metadata": {},
   "outputs": [],
   "source": [
    "# Creating NumPy arrays:\n",
    "\n",
    "a1d = np.array([1, 2, 3])  # 1-dimensional array (rank 1) or vector\n",
    "a2d = np.array([[1, 2, 3], [4, 5, 6]])  # 2-dimensional array (rank 2) or matrix\n",
    "a3d = np.array(\n",
    "    [[[1, 2, 3], [4, 5, 6]], [[1, 2, 3], [4, 5, 6]]]\n",
    ")  # 3-dimensional array (rank 3) or tensor"
   ]
  },
  {
   "cell_type": "code",
   "execution_count": 12,
   "id": "f77e75a1-ea70-4823-b0dc-096b8a8c8555",
   "metadata": {},
   "outputs": [
    {
     "name": "stdout",
     "output_type": "stream",
     "text": [
      "[[1 2 3]\n",
      " [4 5 6]]\n",
      "[1 2 3]\n",
      "4\n",
      "[3 6]\n"
     ]
    }
   ],
   "source": [
    "# slicing and indexing\n",
    "print(a2d)\n",
    "print(a2d[0])\n",
    "print(a2d[-1, 0])\n",
    "\n",
    "# x[-1] -- is the last element of an array\n",
    "print(a2d[:,-1])"
   ]
  },
  {
   "cell_type": "code",
   "execution_count": 13,
   "id": "e4bc2e14-6ffe-4f71-ad2a-e350d4af3b0e",
   "metadata": {},
   "outputs": [
    {
     "name": "stdout",
     "output_type": "stream",
     "text": [
      "(2, 2, 3)\n",
      "12\n",
      "3\n",
      "class:  ndarray\n",
      "shape:  (2, 2, 3)\n",
      "strides:  (48, 24, 8)\n",
      "itemsize:  8\n",
      "aligned:  True\n",
      "contiguous:  True\n",
      "fortran:  False\n",
      "data pointer: 0x5607080c8860\n",
      "byteorder:  little\n",
      "byteswap:  False\n",
      "type: int64\n"
     ]
    }
   ],
   "source": [
    "# Check size and dimensions\n",
    "\n",
    "print(a3d.shape)\n",
    "\n",
    "print(a3d.size)  # equals 2*2*3\n",
    "\n",
    "print(a3d.ndim)  # number of dimensions\n",
    "\n",
    "np.info(a3d)"
   ]
  },
  {
   "cell_type": "markdown",
   "id": "3ddec2cb-0a19-4505-a585-2d8d97f4c98a",
   "metadata": {},
   "source": [
    "## Specific array types, array reshape"
   ]
  },
  {
   "cell_type": "code",
   "execution_count": 10,
   "id": "c1e89bf1-6c39-4309-aa48-1b8d1fc733ed",
   "metadata": {},
   "outputs": [],
   "source": [
    "n = 3\n",
    "m = 4\n",
    "\n",
    "zero = np.zeros((n, m))  # nxm array with all elements 0\n",
    "ones = np.ones((m, n))  # mxn array with all elements 1\n",
    "thrs = np.full((n, n), 3)  # nxn array with all elements 3\n",
    "unit = np.eye(m)  # mxm identity matrix\n",
    "\n",
    "rang = np.arange(n)  # Evenly spaced values in an interval\n",
    "lins = np.linspace(0, 10, 101)  # same as above, see exercise\n",
    "\n",
    "bool = np.ones((3, 2), \"bool\")  # nxm boolean array"
   ]
  },
  {
   "cell_type": "code",
   "execution_count": 11,
   "id": "39b0f35f-47a7-41d6-8754-1829ad56518f",
   "metadata": {},
   "outputs": [
    {
     "data": {
      "text/plain": [
       "array([[1., 1., 1.],\n",
       "       [1., 1., 1.],\n",
       "       [1., 1., 1.],\n",
       "       [1., 1., 1.]])"
      ]
     },
     "execution_count": 11,
     "metadata": {},
     "output_type": "execute_result"
    }
   ],
   "source": [
    "ones"
   ]
  },
  {
   "cell_type": "code",
   "execution_count": 12,
   "id": "a76cc7f3-1ef0-4306-81c4-f4cc74a82848",
   "metadata": {},
   "outputs": [
    {
     "data": {
      "text/plain": [
       "3"
      ]
     },
     "execution_count": 12,
     "metadata": {},
     "output_type": "execute_result"
    }
   ],
   "source": [
    "a = np.arange(12)\n",
    "b = a.reshape(2, 2, 3)\n",
    "b.ndim"
   ]
  },
  {
   "cell_type": "markdown",
   "id": "380259e1-e5e3-452a-94d9-e81fc46da3a3",
   "metadata": {},
   "source": [
    "## Data types in Numpy, change data type\n",
    "* *strings*  - used to represent text data, the text is given under quote marks. e.g. \"ABCD\"\n",
    "* *integer* - used to represent integer numbers. e.g. -1, -2, -3\n",
    "* *float* - used to represent real numbers. e.g. 1.2, 42.42\n",
    "* *boolean* - used to represent True or False.\n",
    "* *complex* - used to represent complex numbers. e.g. 1.0 + 2.0j, 1.5 + 2.5j"
   ]
  },
  {
   "cell_type": "code",
   "execution_count": 13,
   "id": "b14041ff-2f04-467d-8eaa-1e65701eb32c",
   "metadata": {},
   "outputs": [
    {
     "name": "stdout",
     "output_type": "stream",
     "text": [
      "bool\n",
      "[[ True  True]\n",
      " [ True  True]\n",
      " [ True  True]]\n"
     ]
    },
    {
     "data": {
      "text/plain": [
       "array([[1, 1],\n",
       "       [1, 1],\n",
       "       [1, 1]])"
      ]
     },
     "execution_count": 13,
     "metadata": {},
     "output_type": "execute_result"
    }
   ],
   "source": [
    "print(bool.dtype)\n",
    "print(bool)\n",
    "bool.astype(\"int\")"
   ]
  },
  {
   "cell_type": "code",
   "execution_count": 14,
   "id": "6cdeec44-e168-4b3b-935c-923dc906d70c",
   "metadata": {},
   "outputs": [
    {
     "name": "stdout",
     "output_type": "stream",
     "text": [
      "class:  ndarray\n",
      "shape:  (5,)\n",
      "strides:  (8,)\n",
      "itemsize:  8\n",
      "aligned:  True\n",
      "contiguous:  True\n",
      "fortran:  True\n",
      "data pointer: 0x55c2ada73e60\n",
      "byteorder:  little\n",
      "byteswap:  False\n",
      "type: float64\n",
      "None\n"
     ]
    },
    {
     "data": {
      "text/plain": [
       "array([0, 2, 3, 4, 6])"
      ]
     },
     "execution_count": 14,
     "metadata": {},
     "output_type": "execute_result"
    }
   ],
   "source": [
    "a = np.array([0.1, 2.3, 3.9, 4.5, 6.6])\n",
    "print(np.info(a))\n",
    "a.astype(\"int\")\n",
    "# Rounds it to smallest integer"
   ]
  },
  {
   "cell_type": "markdown",
   "id": "d7e56001-478e-46ca-ac3b-ffe280e8451c",
   "metadata": {},
   "source": [
    "***\n",
    "## Exercise 0\n",
    "\n",
    "1) Create two 1D arrays of length 5 using `np.arange(5)` and `np.linspace(0,4,5)`. Are they equivalent or different? Use `.dtype` to compare. How one can adjust one to another?\n",
    "2) Create a 2D 5x4 array of random float numbers between 0 and 1 using `np.random.random((5,4))`. If you now change datatype to 'int' how does it look? Why?\n",
    "3) Reshape array from above to 2x10 array using `yourarrayname.reshape((10,2))` command. In how many ways you can reshape 5x4 matrix?\n",
    "4) Create a new 4x4 arrays by removing the 1st row of the 5x4 array you created in (2)\n",
    "***"
   ]
  },
  {
   "cell_type": "markdown",
   "id": "29fad9ab-6d11-42b3-ab89-9273c5b9d07a",
   "metadata": {},
   "source": [
    "## Matrix operations in Numpy\n",
    "* Basic arithmetic *(+, -, *, /)* in NumPy is element-by-element operations avoiding loops -- vectorization of math!\n",
    "* For matrix multiplication Numpy uses the *@* symbol\n",
    "* Common mathematical operations: numpy.subtract, numpy.multiply, numpy.divide, .T  or numpy.transpose(), numpy.sqrt, numpy.sum(), numpy.mean(), and others..."
   ]
  },
  {
   "cell_type": "code",
   "execution_count": 14,
   "id": "68879a1a-59a1-4cfc-a87b-42e18dfb970a",
   "metadata": {},
   "outputs": [],
   "source": [
    "n = np.arange(12)\n",
    "a = n.reshape((3, 4))\n",
    "b = np.full((3, 4), 2)"
   ]
  },
  {
   "cell_type": "code",
   "execution_count": 15,
   "id": "a48abd76-a05d-45d4-85e2-653798a4d65c",
   "metadata": {},
   "outputs": [
    {
     "data": {
      "text/plain": [
       "array([[ 2,  3,  4,  5],\n",
       "       [ 6,  7,  8,  9],\n",
       "       [10, 11, 12, 13]])"
      ]
     },
     "execution_count": 15,
     "metadata": {},
     "output_type": "execute_result"
    }
   ],
   "source": [
    "a + b"
   ]
  },
  {
   "cell_type": "code",
   "execution_count": 16,
   "id": "0f7070fd-aaf4-4818-a4ca-08437bec37c4",
   "metadata": {},
   "outputs": [
    {
     "data": {
      "text/plain": [
       "array([[ 2,  3,  4,  5],\n",
       "       [ 6,  7,  8,  9],\n",
       "       [10, 11, 12, 13]])"
      ]
     },
     "execution_count": 16,
     "metadata": {},
     "output_type": "execute_result"
    }
   ],
   "source": [
    "c = np.add(a, b)\n",
    "c"
   ]
  },
  {
   "cell_type": "code",
   "execution_count": 17,
   "id": "ac51ea76-db01-46b6-9e26-30b78dac90c9",
   "metadata": {},
   "outputs": [
    {
     "data": {
      "text/plain": [
       "array([[ 0,  2,  4,  6],\n",
       "       [ 8, 10, 12, 14],\n",
       "       [16, 18, 20, 22]])"
      ]
     },
     "execution_count": 17,
     "metadata": {},
     "output_type": "execute_result"
    }
   ],
   "source": [
    "a * b\n",
    "# element-by-element multiplication, same as\n",
    "np.multiply(a, b)"
   ]
  },
  {
   "cell_type": "code",
   "execution_count": 18,
   "id": "4a3ee434-99bc-4be5-b02c-217a84e3015d",
   "metadata": {},
   "outputs": [
    {
     "data": {
      "text/plain": [
       "array([[12, 12, 12],\n",
       "       [44, 44, 44],\n",
       "       [76, 76, 76]])"
      ]
     },
     "execution_count": 18,
     "metadata": {},
     "output_type": "execute_result"
    }
   ],
   "source": [
    "# ... contrary to matrix multiplication\n",
    "a @ b.T\n",
    "c = np.dot(a, b.T)\n",
    "c"
   ]
  },
  {
   "cell_type": "code",
   "execution_count": 19,
   "id": "f46fde61-b24d-412f-bee1-c334db991917",
   "metadata": {},
   "outputs": [
    {
     "name": "stdout",
     "output_type": "stream",
     "text": [
      "[ 36 132 228]\n",
      "396\n"
     ]
    }
   ],
   "source": [
    "print(np.sum(c, axis=1))\n",
    "print(np.sum(c))"
   ]
  },
  {
   "cell_type": "markdown",
   "id": "f6406ba6-1fd5-439c-986c-83b3456d0ecf",
   "metadata": {},
   "source": [
    "## Numpy I/O: Save arrays and load arrays"
   ]
  },
  {
   "cell_type": "code",
   "execution_count": 20,
   "id": "8fa74679-0c14-456b-8b51-fa7a8bbe6cdd",
   "metadata": {},
   "outputs": [],
   "source": [
    "np.save(\"out.npy\", c)\n",
    "x = np.load(\"out.npy\")"
   ]
  },
  {
   "cell_type": "code",
   "execution_count": 21,
   "id": "8309d674-0335-442f-8939-f764170613f0",
   "metadata": {},
   "outputs": [
    {
     "data": {
      "text/plain": [
       "dtype('int64')"
      ]
     },
     "execution_count": 21,
     "metadata": {},
     "output_type": "execute_result"
    }
   ],
   "source": [
    "x.dtype"
   ]
  },
  {
   "cell_type": "code",
   "execution_count": 22,
   "id": "1e1f78ca-74c8-4772-8f26-56890241eaf0",
   "metadata": {},
   "outputs": [
    {
     "name": "stdout",
     "output_type": "stream",
     "text": [
      "[[12 12 12]\n",
      " [44 44 44]\n",
      " [76 76 76]]\n",
      "[[12. 12. 12.]\n",
      " [44. 44. 44.]\n",
      " [76. 76. 76.]]\n"
     ]
    }
   ],
   "source": [
    "# compare to saving as text)\n",
    "np.savetxt(\"out.txt\", c)\n",
    "y = np.loadtxt(\"out.txt\")\n",
    "print(c)\n",
    "print(y)"
   ]
  },
  {
   "cell_type": "markdown",
   "id": "ee34bf89-1cd2-440c-b145-76ce065d5ef0",
   "metadata": {},
   "source": [
    "## View vs copy\n",
    "* When making a copy, and change the original array, new array does not change\n",
    "* When make a view, change of original array changes new array as well\n",
    "* Be careful, as `a = b` is equivalent to `a = b.view()`, but does not create new array!"
   ]
  },
  {
   "cell_type": "code",
   "execution_count": 29,
   "id": "755e2069-0602-423b-8c55-8e6596b226e1",
   "metadata": {},
   "outputs": [
    {
     "name": "stdout",
     "output_type": "stream",
     "text": [
      "[42  2  3  4  5] [1 2 3 4 5]\n"
     ]
    }
   ],
   "source": [
    "# Copy\n",
    "a = np.array([1, 2, 3, 4, 5])\n",
    "x = a.copy()\n",
    "a[0] = 42\n",
    "print(a, x)"
   ]
  },
  {
   "cell_type": "code",
   "execution_count": 30,
   "id": "7f433abe-43c4-4f0e-bdb0-4af802ce74f1",
   "metadata": {},
   "outputs": [
    {
     "name": "stdout",
     "output_type": "stream",
     "text": [
      "[42  2  3  4  5] [42  2  3  4  5]\n"
     ]
    }
   ],
   "source": [
    "# View\n",
    "a = np.array([1, 2, 3, 4, 5])\n",
    "x = a\n",
    "# Equivalent to x = a.view()\n",
    "a[0] = 42\n",
    "print(a, x)"
   ]
  },
  {
   "attachments": {
    "72cf49e5-ea86-4a33-a155-30a5c7225697.png": {
     "image/png": "[encoded data removed]"
    }
   },
   "cell_type": "markdown",
   "id": "911f370a-d9a8-4c46-ab2d-d437b67b9e4b",
   "metadata": {},
   "source": [
    "* This counter-intuitive behavior is important for saving the memory and optimization of calculations when two variables can read from the same physical memory:\n",
    "  \n",
    "![image.png](attachment:72cf49e5-ea86-4a33-a155-30a5c7225697.png)"
   ]
  },
  {
   "cell_type": "markdown",
   "id": "72129b40-05a3-4f68-8720-65f45870f6db",
   "metadata": {},
   "source": [
    "***\n",
    "## Exercise 1\n",
    "1) What is the difference between `np.sum(axis=1)` vs `np.sum(axis=0)` on a two-dimensional array? What if you leave out the axis parameter?\n",
    "2) What is the difference between `np.multiply()` and `np.dot()`? Create two 2D arrays and test how those two function work.\n",
    "3) Save a 2D array as `txt` and `npy`, check how data looks in the output files using text-editor. What is difference in file size?\n",
    "4) Load data you just saved to new variables. Is the data-type preserved?\n",
    "5) Run the following code:\n",
    "```\n",
    "a = np.eye(4)\n",
    "b = a[:,0]\n",
    "b[0] = 5\n",
    "```\n",
    "Print out `a` before `b` has changed and after. Is it the same? How this can be avoided?\n",
    "***"
   ]
  },
  {
   "cell_type": "markdown",
   "id": "5f0d7a83-8efd-473d-a6ce-053692f21f34",
   "metadata": {},
   "source": [
    "## Branching and iterations\n",
    "1) Branching:\n",
    "    * `if - elif - else`\n",
    "2) Conditions:\n",
    "    * Equal: `a == b`\n",
    "    * Not equal: `a != b`\n",
    "    * Less, less or equal: `a < b`, `a <= b`\n",
    "3) Iterations:\n",
    "    * Loop `for`\n",
    "    * Loop `while`"
   ]
  },
  {
   "cell_type": "code",
   "execution_count": 33,
   "id": "a89e305a-750d-4bd6-becf-0cc276bc71aa",
   "metadata": {},
   "outputs": [
    {
     "name": "stdout",
     "output_type": "stream",
     "text": [
      "\"a\" is smaller than 5\n",
      "\"a\" is smaller than 5\n",
      "\"a\" is 5!\n",
      "\"a\" is larger than 5!\n",
      "\"a\" is larger than 5!\n"
     ]
    }
   ],
   "source": [
    "a = 1\n",
    "while a < 10:\n",
    "    if a < 5:\n",
    "        print('\"a\" is smaller than 5')\n",
    "    elif a > 5:\n",
    "        print('\"a\" is larger than 5!')\n",
    "    else:\n",
    "        print('\"a\" is 5!')\n",
    "    a += 2"
   ]
  },
  {
   "cell_type": "markdown",
   "id": "9039ac43",
   "metadata": {},
   "source": [
    "~~~\n",
    "age = int(input(\"Enter your age: \"))\n",
    "\n",
    "if age >= 0 and age <= 12:\n",
    "    print(\"Your age group is Child\")\n",
    "elif age >= 13 and age <= 19:\n",
    "    print(\"Your age group is Teenager\")\n",
    "elif age >= 20 and age <= 59:\n",
    "    print(\"Your age group is Adult\")\n",
    "else:\n",
    "    print(\"Your age group is Senior Citizen\")\n",
    "~~~"
   ]
  },
  {
   "cell_type": "markdown",
   "id": "4dd74c1f-cbc6-4aad-a2b1-7538590f758c",
   "metadata": {},
   "source": [
    "***\n",
    "## Exercise 2\n",
    "* Compute $\\pi$ using Leibniz formula\n",
    "$$\n",
    "\\pi/4 = 1 - 1/3 + 1/5 - 1/7 + 1/9 - ... = \\sum_{i=0}^{\\infty} \\frac{(-1)^i}{2i+1}\n",
    "$$\n",
    "with the help of \n",
    "1) iteration procedure (no Numpy)\n",
    "2) array summation with Numpy\n",
    "* `%%timeit` both version for `i` in range `[0...1000000]`\n",
    "* Find accuracy of your calculation comparing it with `np.pi` and changing number of term in your sum\n",
    "* Use `while` loop to compute $\\pi$ until certain accuracy (e.g. 1e-4): \n",
    "***"
   ]
  },
  {
   "attachments": {
    "e8f54f4d-e032-474a-a216-eca53a8815ad.png": {
     "image/png": "[encoded data removed]"
    }
   },
   "cell_type": "markdown",
   "id": "6be73d11-c7d9-43b6-8659-d1d99e8dfd4e",
   "metadata": {},
   "source": [
    "## Summary \n",
    "\n",
    "### Data type vs. data structure vs. file format\n",
    "* Data type: Type of a single piece of data (integer, string, float, …).\n",
    "* Data structure: How the data is organized in memory (individual columns, 2D-array, nested dictionaries, …).\n",
    "* File format: How the data is organized when it is saved to the disk (columns of strings, block of binary data, …).\n",
    "\n",
    "\n",
    "**For example**, a black and white image stored as a .png-file (file format) might be stored in memory as an NxM array (data structure) of integers (data type).\n",
    "\n",
    "![image.png](attachment:e8f54f4d-e032-474a-a216-eca53a8815ad.png)"
   ]
  },
  {
   "cell_type": "code",
   "execution_count": 28,
   "id": "1f6264dc-113f-43b9-9b96-7e899c30badd",
   "metadata": {},
   "outputs": [
    {
     "data": {
      "text/plain": [
       "array([[1, 1, 0, 1, 1, 1, 0, 1, 1, 1],\n",
       "       [1, 0, 0, 0, 1, 0, 0, 0, 1, 1],\n",
       "       [0, 1, 1, 1, 0, 1, 1, 1, 0, 1],\n",
       "       [0, 1, 1, 1, 1, 1, 1, 1, 0, 1],\n",
       "       [0, 1, 1, 1, 1, 1, 1, 1, 0, 1],\n",
       "       [0, 1, 1, 1, 1, 1, 1, 1, 0, 1],\n",
       "       [1, 0, 1, 1, 1, 1, 1, 0, 1, 1],\n",
       "       [1, 1, 0, 1, 1, 1, 0, 1, 1, 1],\n",
       "       [1, 1, 1, 0, 0, 0, 1, 1, 1, 1],\n",
       "       [1, 1, 1, 1, 0, 1, 1, 1, 1, 1]])"
      ]
     },
     "execution_count": 28,
     "metadata": {},
     "output_type": "execute_result"
    }
   ],
   "source": [
    "heart = np.array([[1,1,0,1,1,1,0,1,1,1],[1,0,0,0,1,0,0,0,1,1],[0,1,1,1,0,1,1,1,0,1],[0,1,1,1,1,1,1,1,0,1],[0,1,1,1,1,1,1,1,0,1],[0,1,1,1,1,1,1,1,0,1],[1,0,1,1,1,1,1,0,1,1],[1,1,0,1,1,1,0,1,1,1],[1,1,1,0,0,0,1,1,1,1],[1,1,1,1,0,1,1,1,1,1]])\n",
    "\n",
    "heart"
   ]
  },
  {
   "cell_type": "markdown",
   "id": "8f9ccf03-8d31-4218-bc82-6cc5800fbfaf",
   "metadata": {},
   "source": [
    "### Further reading\n",
    "* We made a little excurcion to Numpy which in general contains very broad set of tools\n",
    "* For more details check [Numpy manual](https://numpy.org/doc/stable/reference/)\n",
    "* Do not hesitate to google with \"numpy\" key-word: there are a lot of high-performance solutions with Numpy available in the net"
   ]
  },
  {
   "attachments": {
    "5b7289e7-0f2f-49d9-82d9-63f2f38acc1f.png": {
     "image/png": "[encoded data removed]"
    }
   },
   "cell_type": "markdown",
   "id": "4348bffc-397c-4682-9493-caed629ac044",
   "metadata": {},
   "source": [
    "*** \n",
    "# Homework Lecture 4\n",
    "\n",
    "## Calculating $\\pi$ using Monte Carlo method\n",
    "\n",
    "* Write you routines to compute $\\pi$ using Monte Carlo methods in 1) standard python and 2) Numpy\n",
    "\n",
    "**Relevant formulas**\n",
    "\n",
    "- square area: $s = (2 r)^2$\n",
    "- circle area: $c = \\pi r^2$\n",
    "- $c/s = (\\pi r^2) / (4 r^2) = \\pi / 4$\n",
    "- $\\pi = 4 * c/s$\n",
    "\n",
    "**Image to visualize the concept**\n",
    "\n",
    "![image.png](attachment:5b7289e7-0f2f-49d9-82d9-63f2f38acc1f.png)\n",
    "\n",
    "**Solution strategy**\n",
    "\n",
    "* Consider you throwing darts in the picture above. Generate random pairs $(x, y)$, compute radius from the origin $(0,0)$ and check `if` your dart is inside the circle (red dot, `x*x + y*y <= 1.0`) or not (blue dots).\n",
    "* Repeat N times and then compute $\\pi=4\\times$(*darts inside the circle*)/(*total number of throws N*)\n",
    "* Take `N=100000` and use iteration loop `for i in range(N):` in Python code version and vector multiplication in Numpy code version. Use `%%timeit` magic command to compare computation time for those to routines.\n",
    "* Improve accuracy of calculation for Numpy version by using additional loop to average over random number generator\n",
    "\n",
    "**Home work instructions**\n",
    "\n",
    "0) Download `Homework_L4.ipynb` to your working directory, open it in Jupyter-lab\n",
    "1) Following instructions below type in your solution in the cells below instead of `# YOUR CODE HERE`\n",
    "2) In the last Markdown cell make a brief explanation of the codes you made and insights you obtained\n",
    "3) Save the notebook, restart the kernel and run all cells (use `>>` menu button) and then upload it to Canvas\n",
    "4) *Deadline: before the next lecture*"
   ]
  },
  {
   "cell_type": "code",
   "execution_count": null,
   "id": "b0fe442d-53b0-4852-985a-add1203141bb",
   "metadata": {},
   "outputs": [],
   "source": []
  }
 ],
 "metadata": {
  "celltoolbar": "Tags",
  "kernelspec": {
   "display_name": "Python 3 (ipykernel)",
   "language": "python",
   "name": "python3"
  },
  "language_info": {
   "codemirror_mode": {
    "name": "ipython",
    "version": 3
   },
   "file_extension": ".py",
   "mimetype": "text/x-python",
   "name": "python",
   "nbconvert_exporter": "python",
   "pygments_lexer": "ipython3",
   "version": "3.12.0"
  }
 },
 "nbformat": 4,
 "nbformat_minor": 5
}

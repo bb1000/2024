{
 "cells": [
  {
   "cell_type": "markdown",
   "id": "2c928322-8176-4e65-adbb-027ea55f195a",
   "metadata": {},
   "source": [
    "# Lecture 5: Debugging\n",
    "\n",
    "..or: How to Read (error messages).\n",
    "\n",
    "(that's it, that's the lecture)"
   ]
  },
  {
   "cell_type": "markdown",
   "id": "cd92c610-c3e2-4695-a44b-0a5db4ccb5b7",
   "metadata": {},
   "source": [
    "## Quick start reminder:\n",
    "* Open terminal (Mac, Linux) / Anaconda Power Shell (Windows)\n",
    "```\n",
    "% conda activate bb1000\n",
    "% cd MyWorkingDir\n",
    "% mkdir Lecture_05\n",
    "```\n",
    "- Download from Module 5 on Canvas the two (2) `.ipynb` files and save them to your Lecture_05 working directory\n",
    "```\n",
    "% jupyter-lab\n",
    "```\n",
    "- Open the jupyter notebooks for Lecture 5\n",
    "- Make line numbers visible: click `View > Show Line Numbers`"
   ]
  },
  {
   "cell_type": "markdown",
   "id": "4c52c06b-94c2-45f7-bbab-b4d4daa578ad",
   "metadata": {},
   "source": [
    "## Bug examples\n",
    "### Case 1: different data types (`TypeError`)"
   ]
  },
  {
   "cell_type": "code",
   "execution_count": 2,
   "id": "f6a7610b-6ba8-4af4-9e5b-1e99dfbe73e0",
   "metadata": {
    "tags": [
     "raises-exception"
    ]
   },
   "outputs": [
    {
     "ename": "TypeError",
     "evalue": "unsupported operand type(s) for +: 'int' and 'str'",
     "output_type": "error",
     "traceback": [
      "\u001b[0;31m---------------------------------------------------------------------------\u001b[0m",
      "\u001b[0;31mTypeError\u001b[0m                                 Traceback (most recent call last)",
      "Cell \u001b[0;32mIn[2], line 3\u001b[0m\n\u001b[1;32m      1\u001b[0m a \u001b[38;5;241m=\u001b[39m \u001b[38;5;241m2\u001b[39m\n\u001b[1;32m      2\u001b[0m b \u001b[38;5;241m=\u001b[39m \u001b[38;5;124m'\u001b[39m\u001b[38;5;124m5\u001b[39m\u001b[38;5;124m'\u001b[39m\n\u001b[0;32m----> 3\u001b[0m c \u001b[38;5;241m=\u001b[39m \u001b[43ma\u001b[49m\u001b[43m \u001b[49m\u001b[38;5;241;43m+\u001b[39;49m\u001b[43m \u001b[49m\u001b[43mb\u001b[49m\n\u001b[1;32m      5\u001b[0m \u001b[38;5;28mprint\u001b[39m(c, \u001b[38;5;28mtype\u001b[39m(c))\n",
      "\u001b[0;31mTypeError\u001b[0m: unsupported operand type(s) for +: 'int' and 'str'"
     ]
    }
   ],
   "source": [
    "a = 2\n",
    "b = '5'\n",
    "c = a + b\n",
    "\n",
    "print(c, type(c))"
   ]
  },
  {
   "cell_type": "markdown",
   "id": "776cf9c0-1f60-4f95-905c-941158d3920d",
   "metadata": {},
   "source": [
    "### Case 2: missing import of library (`NameError`)"
   ]
  },
  {
   "cell_type": "code",
   "execution_count": null,
   "id": "f88132bb-c14f-4daa-93a6-60583ef43779",
   "metadata": {
    "tags": [
     "raises-exception"
    ]
   },
   "outputs": [],
   "source": [
    "d = np.array([1, 2, 3])\n",
    "\n",
    "print(type(d), d.dtype)"
   ]
  },
  {
   "cell_type": "markdown",
   "id": "cd6fd0b7-35fa-442a-8a72-b52c76eeed02",
   "metadata": {},
   "source": [
    "### Case 3: undefined variable (`NameError`)"
   ]
  },
  {
   "cell_type": "code",
   "execution_count": null,
   "id": "57a4c4cd-b00b-4cf5-aae4-893c58a99bc3",
   "metadata": {
    "tags": [
     "raises",
     "raises-exception"
    ]
   },
   "outputs": [],
   "source": [
    "e = a*d + a2\n",
    "\n",
    "print(e, type(e), e.dtype)"
   ]
  },
  {
   "cell_type": "code",
   "execution_count": null,
   "id": "dc74edad-e4eb-43bb-ab22-0f4ea9314cc1",
   "metadata": {
    "tags": [
     "raises-exception"
    ]
   },
   "outputs": [],
   "source": [
    "n = 4\n",
    "for i in range(4):\n",
    "    count = count + i\n",
    "print(count)"
   ]
  },
  {
   "cell_type": "markdown",
   "id": "465b4ad0-3bed-4606-be9d-acbb8de56ab7",
   "metadata": {},
   "source": [
    "### Case 4: wrong operand/attribute for type (`AttributeError`)"
   ]
  },
  {
   "cell_type": "code",
   "execution_count": null,
   "id": "d338ea6e-ff3a-400d-8173-9c4cd2ec96e5",
   "metadata": {
    "tags": [
     "raises-exception"
    ]
   },
   "outputs": [],
   "source": [
    "l = [4, 5, 6]\n",
    "\n",
    "print(l.astype('str'))"
   ]
  },
  {
   "cell_type": "markdown",
   "id": "6dee3f29-4933-4a1b-ad1b-f3d2cd5e9d85",
   "metadata": {},
   "source": [
    "\n",
    "## Carry out exercise 1--4\n",
    "---\n"
   ]
  },
  {
   "cell_type": "markdown",
   "id": "922258d5-ba61-491a-b27d-fce436f0a76c",
   "metadata": {},
   "source": [
    "### Case 5: out of bounds (`IndexError`)"
   ]
  },
  {
   "cell_type": "code",
   "execution_count": null,
   "id": "101cb9a0-efbd-48c1-b9b3-cc51396863ea",
   "metadata": {
    "tags": [
     "raises-exception"
    ]
   },
   "outputs": [],
   "source": [
    "v1 = np.zeros(11)\n",
    "v2 = np.zeros(10)\n",
    "\n",
    "for i in range(len(v1)):\n",
    "    v2[i] +=1"
   ]
  },
  {
   "cell_type": "markdown",
   "id": "649dd9bb-7861-464d-b5f3-7e913d70fb73",
   "metadata": {},
   "source": [
    "### Case 6: mismatch in array dimensions (`ValueError`)\n"
   ]
  },
  {
   "cell_type": "code",
   "execution_count": null,
   "id": "a3af590f-7436-4f6c-a6fd-30ba7eb3869f",
   "metadata": {
    "tags": [
     "raises-exception"
    ]
   },
   "outputs": [],
   "source": [
    "dot = v1.dot(v2)"
   ]
  },
  {
   "cell_type": "markdown",
   "id": "e30349d4-6e1b-4fb9-b7ba-0c23a36b6d40",
   "metadata": {},
   "source": [
    "## Carry out exercises 5 -- 7\n",
    "----"
   ]
  },
  {
   "cell_type": "markdown",
   "id": "89dac5d6-6296-4781-b851-713b5a8f5947",
   "metadata": {},
   "source": [
    "### Case 7: forgotten indentation or comment marker (`SyntaxError`)"
   ]
  },
  {
   "cell_type": "code",
   "execution_count": null,
   "id": "56516efb-f0c3-417e-9957-a5784482b1b3",
   "metadata": {
    "tags": [
     "raises-exception"
    ]
   },
   "outputs": [],
   "source": [
    " a comment before a loop\n",
    "for i in range(2):\n",
    "print(i)"
   ]
  },
  {
   "cell_type": "markdown",
   "id": "b15c9b35-daf7-4b94-9387-381e1316ed1c",
   "metadata": {},
   "source": [
    "### Case 8: typo in loops and conditions (`SyntaxError`)"
   ]
  },
  {
   "cell_type": "code",
   "execution_count": null,
   "id": "64014ffb-6a9a-4d44-9438-6617621f47a2",
   "metadata": {
    "tags": [
     "raises-exception"
    ]
   },
   "outputs": [],
   "source": [
    "a = 3\n",
    "b = 0\n",
    "n = 5\n",
    "\n",
    "for i in range(n):\n",
    "    b = b + i\n",
    "    if (b = a):\n",
    "        break\n",
    "        \n",
    "print(a,b)"
   ]
  },
  {
   "cell_type": "markdown",
   "id": "0b777251-1801-49cc-abdd-a228bb5bcc2a",
   "metadata": {},
   "source": [
    "## Carry out exercises 8 -- 10\n",
    "\n",
    "**THE END**"
   ]
  }
 ],
 "metadata": {
  "celltoolbar": "Tags",
  "kernelspec": {
   "display_name": "Python 3 (ipykernel)",
   "language": "python",
   "name": "python3"
  },
  "language_info": {
   "codemirror_mode": {
    "name": "ipython",
    "version": 3
   },
   "file_extension": ".py",
   "mimetype": "text/x-python",
   "name": "python",
   "nbconvert_exporter": "python",
   "pygments_lexer": "ipython3",
   "version": "3.12.0"
  }
 },
 "nbformat": 4,
 "nbformat_minor": 5
}

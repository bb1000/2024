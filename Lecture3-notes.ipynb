{
 "cells": [
  {
   "cell_type": "markdown",
   "id": "ed235173-1840-4e53-a48b-391bf2eec824",
   "metadata": {
    "editable": true,
    "slideshow": {
     "slide_type": ""
    },
    "tags": []
   },
   "source": [
    "# Workshop 3: Introduction to Jupyter\n",
    "## Contents\n",
    "- Jupyter-lab interface\n",
    "- Cell types: raw, markdown, code\n",
    "- Basics of markdown and Latex commands inside markdown cells\n",
    "- Run your first python codes in Jupyter-lab\n",
    "- Kernel operations; run cell vs run whole notebook\n",
    "- Conclusions: advantages and disadvantages of Jupyter\n",
    "- Comments on homework"
   ]
  },
  {
   "cell_type": "markdown",
   "id": "01cbb1b9-69d9-4047-bc0f-8cb687a3d133",
   "metadata": {},
   "source": [
    "## Why Jupyter?\n",
    "- We will use Jupyter during this course, as it provides an easy way to start with programming, as well as good for teaching learning activities\n",
    "- Using combination of codes cell and markdown cells, you can easily create a nice story out of your work"
   ]
  },
  {
   "cell_type": "markdown",
   "id": "a426ac18-29c1-4b6e-865b-ea3176a4d91c",
   "metadata": {},
   "source": [
    "## Quick start: hands-on!\n",
    "\n",
    "- Open terminal (Mac, Lin) / Anaconda Power Shell (Win)\n",
    "- Activate course environment `bb1000` (\"%\" means beginning of command line, do not type it!)\n",
    "```\n",
    "% conda activate bb1000\n",
    "```\n",
    "- Go to your working directory (that you created last workshop)\n",
    "```\n",
    "% cd MyWorkingDir\n",
    "```\n",
    "- Create new directory for today's workshop, e.g.\n",
    "```\n",
    "% mkdir Lecture_3\n",
    "```\n",
    "- Download from Module 3 on Canvas `.jpynb` files (Lecture 3 notes and homework) and save them to your working directory, e.g. `MyWorkingDirectory/Module3/`\n",
    "- Start Jupyter-Lab\n",
    "```\n",
    "% jupyter-lab\n",
    "```"
   ]
  },
  {
   "cell_type": "markdown",
   "id": "2f9eb984-0db4-4066-82f5-47915951821e",
   "metadata": {},
   "source": [
    "## Jupyter-lab interface and cell operation\n",
    "- Launcher: Jupyter, terminal, markdown/text/python files\n",
    "- File browser\n",
    "- Running terminals/kernels\n",
    "- Make new cells, change cell formats, insert cells, move cell up/down\n",
    "- Run cell vs run whole notebook"
   ]
  },
  {
   "cell_type": "markdown",
   "id": "223104b9-b8c3-47f4-8e97-eb701fa569e2",
   "metadata": {},
   "source": [
    "### Some important shortcuts:\n",
    "* `Ctrl-Enter` : Run cell\n",
    "* `Shift-Enter` : Run cell and select cell below\n",
    "* `Alt-Enter` : Run cell and insert new cell below\n",
    "* `a / b` : insert new cell above/below\n",
    "* `m / y` : markdown cell / code cell\n",
    "* `x` : cut cell\n",
    "* `c` : copy cell\n",
    "* `v` : paste cell\n",
    "* `d, d` : delete cell"
   ]
  },
  {
   "attachments": {},
   "cell_type": "markdown",
   "id": "981af404-3bdb-43d2-964b-66fa90967599",
   "metadata": {},
   "source": [
    "***\n",
    "## **Exercise 0**\n",
    "\n",
    "* **Investigate Jupyter-lab interface:**\n",
    "    - From Launcher tab open some non-notebook text/py/md files and save them: Always change filename from `untitled.*`. Get used doing that to avoid mess!\n",
    "    - Create a python notebook file and name it; in the following assessments you will be using it\n",
    "    - From Launcher open terminal tab; type `ls` command - you should see lost of files in your working directory\n",
    "    - Delete unneeded files your just created (text, md, etc.) from file browser (left panel of Jupyter-lab) or from terminal using `rm file.name` command\n",
    "    - Close all tabs except Jupyter notebooks you are working with; you may also shutdown kernels you do not use\n",
    "* **Investigate Jupyter-notebook:**\n",
    "    - In the Jupyter-notebook file you just made: create several new cells and assigned them different types (Markdown, Code, Raw)\n",
    "    - Write some basic text or command and try to run cells individually using menu button and shortcuts\n",
    "    - Shuffle the cells up and down using buttons at the right or shortcuts\n",
    "    - Try copy/paste, delete cells\n",
    "***"
   ]
  },
  {
   "cell_type": "markdown",
   "id": "d848b0b2-29fb-4981-8040-308cde9bf670",
   "metadata": {},
   "source": [
    "## Markdown cell\n",
    "\n",
    "### Markdown format\n",
    "\n",
    "Markdown is an easy way to make nice looking document using various *style* of the `text`. Check basics markdown commands followint [this reference](https://commonmark.org/help/).\n",
    "\n",
    "### Writing math in latex\n",
    "\n",
    "You can write latex mathematical equation both inline, like this: $f(x)=\\ln(x)+\\cos^2(x)$, using \\\\$ ... \\\\$ environment, or as a separate equation with numbering, using \\\\$\\\\$ environment:\n",
    "\n",
    "$$\\tag{1}\n",
    "\\frac{\\partial c}{\\partial t} = D(x) \\frac{\\partial^2 c}{\\partial x^2}\n",
    "$$\n",
    "\n",
    "Above equation is 2nd order differential equation that describes diffusion (Fick's 2nd law), where $D(x)$ is diffusion coefficient (generally dependent on coordinate $x$), and $\\partial c/ \\partial t$ represent partial derivative of concentration gradient $c(t,x)$.\n",
    "\n",
    "Find most of commonly used latex commands to type math on [this pdf file](https://www.cmor-faculty.rice.edu/~heinken/latex/symbols.pdf).\n",
    "\n",
    "### Inserting images in Markdown cell\n",
    "- Copy/Paste\n",
    "- Drag\n",
    "- Using URL : `![alternatvie text](URL-to-image)` ![jupyter](https://jupyter.org/assets/homepage/main-logo.svg)\n",
    "- Path to local file: `![alternative text](path-to-image)`"
   ]
  },
  {
   "attachments": {
    "581905f9-b2e9-4663-8e70-086e6fb5fc64.png": {
     "image/png": "[encoded data removed]"
    }
   },
   "cell_type": "markdown",
   "id": "995969e4-bb06-4eb6-8488-47659f9a4fe9",
   "metadata": {},
   "source": [
    "*** \n",
    "## **Exercise 1**\n",
    "\n",
    "1) Make new Markdown cell\n",
    "2) Write down some hypertext, including title, section, subsection and a list (bullet and number).\n",
    "3) Write down at least one of the following equations using latex commands:\n",
    "\n",
    "![image.png](attachment:581905f9-b2e9-4663-8e70-086e6fb5fc64.png)\n",
    "\n",
    "4) Find and insert Anaconda image\n",
    "5) Look at the notebook file in a text editor. Can you recognize you code? Do you see difference with graphic file your inserted?\n",
    "***"
   ]
  },
  {
   "cell_type": "markdown",
   "id": "c2ca6151-fa7d-44dd-a6a2-d1bff637d861",
   "metadata": {},
   "source": [
    "## Python code cells\n",
    "- Basic commands\n",
    "- Variables, iteration loop, if-else statements\n",
    "- Have nice written code: \"Format notebook\"\n",
    "- Order of you notebook blocks are the same order as you run them!\n",
    "\n",
    "Some examples of python code below: "
   ]
  },
  {
   "cell_type": "code",
   "execution_count": 6,
   "id": "1ac9ca86-b091-4c4f-bc8e-0c92284586ea",
   "metadata": {},
   "outputs": [
    {
     "name": "stdout",
     "output_type": "stream",
     "text": [
      "Hello world\n"
     ]
    }
   ],
   "source": [
    "# printing our text or variable to output\n",
    "print(\"Hello world\")"
   ]
  },
  {
   "cell_type": "code",
   "execution_count": 7,
   "id": "73c8200c-6019-42af-9111-e9ffbb463b58",
   "metadata": {},
   "outputs": [
    {
     "name": "stdout",
     "output_type": "stream",
     "text": [
      "Hello world\n"
     ]
    }
   ],
   "source": [
    "a = \"Hello\"\n",
    "b = \"world\"\n",
    "print(a, b)"
   ]
  },
  {
   "cell_type": "code",
   "execution_count": 8,
   "id": "cb8c286c-b785-4945-8cdd-3d26cf42320a",
   "metadata": {},
   "outputs": [
    {
     "name": "stdout",
     "output_type": "stream",
     "text": [
      "0\n",
      "3\n",
      "10\n"
     ]
    }
   ],
   "source": [
    "# count start from 0 in python, so range(3) means 0,1,2\n",
    "for i in range(3):\n",
    "    b = (2 * i + 1) * i\n",
    "    print(b)"
   ]
  },
  {
   "cell_type": "code",
   "execution_count": 9,
   "id": "f1de45a9-1421-4d73-9925-08835e675849",
   "metadata": {},
   "outputs": [
    {
     "name": "stdout",
     "output_type": "stream",
     "text": [
      "['apple', 'banana', 'cherry']\n",
      "[0, 1, 2, 3, 4, 5, 6, 7, 8, 9]\n"
     ]
    }
   ],
   "source": [
    "mylist = [\"apple\", \"banana\", \"cherry\"]\n",
    "print(mylist)\n",
    "\n",
    "myanotherlist = list(range(10))\n",
    "print(myanotherlist)"
   ]
  },
  {
   "cell_type": "code",
   "execution_count": 10,
   "id": "a104b8a1-0ba3-4705-a9c9-f17d822d88f3",
   "metadata": {},
   "outputs": [
    {
     "name": "stdout",
     "output_type": "stream",
     "text": [
      "apple\n",
      "banana\n",
      "cherry\n"
     ]
    }
   ],
   "source": [
    "for i in range(3):\n",
    "    print(mylist[i])"
   ]
  },
  {
   "cell_type": "code",
   "execution_count": 11,
   "id": "dc7d0f66-a1a9-43b0-86d7-f70f516314ad",
   "metadata": {},
   "outputs": [
    {
     "data": {
      "text/plain": [
       "66"
      ]
     },
     "execution_count": 11,
     "metadata": {},
     "output_type": "execute_result"
    }
   ],
   "source": [
    "# One can avoid \"print\" command if only interested in the last cell operation result:\n",
    "mylist\n",
    "sum(range(12))"
   ]
  },
  {
   "cell_type": "code",
   "execution_count": 12,
   "id": "548ab78f-117e-4671-9657-857b8083ba3f",
   "metadata": {},
   "outputs": [
    {
     "name": "stdout",
     "output_type": "stream",
     "text": [
      "3 -1 2 2.0\n"
     ]
    }
   ],
   "source": [
    "# Use \"Format notebook\" button to make a proper code formatting\n",
    "a = 1\n",
    "b = 2\n",
    "print(a + b, a - b, a * b, b / a)"
   ]
  },
  {
   "cell_type": "code",
   "execution_count": 13,
   "id": "e66e8d3e-bd6a-4612-bbd3-203631d948fd",
   "metadata": {},
   "outputs": [
    {
     "name": "stdout",
     "output_type": "stream",
     "text": [
      "a= 1 is smaller than 5\n"
     ]
    }
   ],
   "source": [
    "# if-statement\n",
    "if a < 5:\n",
    "    print(\"a=\", a, \"is smaller than 5\")\n",
    "    a += 2\n",
    "else:\n",
    "    print(\"a=\", a, \"is lager or equal to 5\")"
   ]
  },
  {
   "cell_type": "markdown",
   "id": "5d904fa6-090a-4595-b502-b8bebf2c34fa",
   "metadata": {},
   "source": [
    "### **Results are obtained in order you run the cells!** \n",
    "* It is IMPORTANT to restart kernel with command `>>` restarts everything and run whole Notebook from the beginning before sending it to someone else.\n",
    "\n",
    "* Try to restart the kernel and re-run whole your notebook using `>>` button from upper menu. Do you see the results as you expect?"
   ]
  },
  {
   "cell_type": "markdown",
   "id": "75717e02-69d7-44c8-987c-3a8aef9e1352",
   "metadata": {},
   "source": [
    "## Magic command (command beyond python)"
   ]
  },
  {
   "cell_type": "code",
   "execution_count": 1,
   "id": "0b1113b1-b2c3-4601-ba4d-bfdeffb53a95",
   "metadata": {},
   "outputs": [
    {
     "name": "stdout",
     "output_type": "stream",
     "text": [
      " Volume in drive C is Windows\n",
      " Volume Serial Number is 0EC0-58E2\n",
      "\n",
      " Directory of C:\\Users\\victo\\BB1000\n",
      "\n",
      "22/01/2024  10:54    <DIR>          .\n",
      "22/01/2024  10:54    <DIR>          ..\n",
      "22/01/2024  10:04    <DIR>          .ipynb_checkpoints\n",
      "17/01/2024  13:37               202 bb1000.yml\n",
      "22/01/2024  10:05             4,502 Homework-L3.ipynb\n",
      "20/01/2024  19:11             3,299 Homework-L3-solution.ipynb\n",
      "22/01/2024  10:06             4,881 Homework-L3-test.ipynb\n",
      "22/01/2024  10:54            35,221 Lecture3-notes.ipynb\n",
      "22/01/2024  09:47           367,863 Lecture3-notes.pdf\n",
      "21/01/2024  20:15            35,579 Lecture3-teacher.ipynb\n",
      "19/01/2024  11:45           178,937 Module3-notes.ipynb\n",
      "               8 File(s)        630,484 bytes\n",
      "               3 Dir(s)  55,693,131,776 bytes free\n"
     ]
    },
    {
     "data": {
      "text/plain": [
       "'C:\\\\Users\\\\victo\\\\BB1000'"
      ]
     },
     "execution_count": 1,
     "metadata": {},
     "output_type": "execute_result"
    }
   ],
   "source": [
    "# Shell commands that does not exist in Python, but very useful in Jupyter, starting with \"%\", e.g.\n",
    "%ls\n",
    "%pwd"
   ]
  },
  {
   "cell_type": "code",
   "execution_count": 4,
   "id": "6b2f1967-bb93-49c3-ac27-635ebe19680f",
   "metadata": {},
   "outputs": [
    {
     "data": {
      "application/json": {
       "cell": {
        "!": "OSMagics",
        "HTML": "Other",
        "SVG": "Other",
        "bash": "Other",
        "capture": "ExecutionMagics",
        "cmd": "Other",
        "code_wrap": "ExecutionMagics",
        "debug": "ExecutionMagics",
        "file": "Other",
        "html": "DisplayMagics",
        "javascript": "DisplayMagics",
        "js": "DisplayMagics",
        "latex": "DisplayMagics",
        "markdown": "DisplayMagics",
        "perl": "Other",
        "prun": "ExecutionMagics",
        "pypy": "Other",
        "python": "Other",
        "python2": "Other",
        "python3": "Other",
        "ruby": "Other",
        "script": "ScriptMagics",
        "sh": "Other",
        "svg": "DisplayMagics",
        "sx": "OSMagics",
        "system": "OSMagics",
        "time": "ExecutionMagics",
        "timeit": "ExecutionMagics",
        "writefile": "OSMagics"
       },
       "line": {
        "alias": "OSMagics",
        "alias_magic": "BasicMagics",
        "autoawait": "AsyncMagics",
        "autocall": "AutoMagics",
        "automagic": "AutoMagics",
        "autosave": "KernelMagics",
        "bookmark": "OSMagics",
        "cd": "OSMagics",
        "clear": "KernelMagics",
        "cls": "KernelMagics",
        "code_wrap": "ExecutionMagics",
        "colors": "BasicMagics",
        "conda": "PackagingMagics",
        "config": "ConfigMagics",
        "connect_info": "KernelMagics",
        "copy": "Other",
        "ddir": "Other",
        "debug": "ExecutionMagics",
        "dhist": "OSMagics",
        "dirs": "OSMagics",
        "doctest_mode": "BasicMagics",
        "echo": "Other",
        "ed": "Other",
        "edit": "KernelMagics",
        "env": "OSMagics",
        "gui": "BasicMagics",
        "hist": "Other",
        "history": "HistoryMagics",
        "killbgscripts": "ScriptMagics",
        "ldir": "Other",
        "less": "KernelMagics",
        "load": "CodeMagics",
        "load_ext": "ExtensionMagics",
        "loadpy": "CodeMagics",
        "logoff": "LoggingMagics",
        "logon": "LoggingMagics",
        "logstart": "LoggingMagics",
        "logstate": "LoggingMagics",
        "logstop": "LoggingMagics",
        "ls": "Other",
        "lsmagic": "BasicMagics",
        "macro": "ExecutionMagics",
        "magic": "BasicMagics",
        "mamba": "PackagingMagics",
        "matplotlib": "PylabMagics",
        "micromamba": "PackagingMagics",
        "mkdir": "Other",
        "more": "KernelMagics",
        "notebook": "BasicMagics",
        "page": "BasicMagics",
        "pastebin": "CodeMagics",
        "pdb": "ExecutionMagics",
        "pdef": "NamespaceMagics",
        "pdoc": "NamespaceMagics",
        "pfile": "NamespaceMagics",
        "pinfo": "NamespaceMagics",
        "pinfo2": "NamespaceMagics",
        "pip": "PackagingMagics",
        "popd": "OSMagics",
        "pprint": "BasicMagics",
        "precision": "BasicMagics",
        "prun": "ExecutionMagics",
        "psearch": "NamespaceMagics",
        "psource": "NamespaceMagics",
        "pushd": "OSMagics",
        "pwd": "OSMagics",
        "pycat": "OSMagics",
        "pylab": "PylabMagics",
        "qtconsole": "KernelMagics",
        "quickref": "BasicMagics",
        "recall": "HistoryMagics",
        "rehashx": "OSMagics",
        "reload_ext": "ExtensionMagics",
        "ren": "Other",
        "rep": "Other",
        "rerun": "HistoryMagics",
        "reset": "NamespaceMagics",
        "reset_selective": "NamespaceMagics",
        "rmdir": "Other",
        "run": "ExecutionMagics",
        "save": "CodeMagics",
        "sc": "OSMagics",
        "set_env": "OSMagics",
        "store": "StoreMagics",
        "sx": "OSMagics",
        "system": "OSMagics",
        "tb": "ExecutionMagics",
        "time": "ExecutionMagics",
        "timeit": "ExecutionMagics",
        "unalias": "OSMagics",
        "unload_ext": "ExtensionMagics",
        "who": "NamespaceMagics",
        "who_ls": "NamespaceMagics",
        "whos": "NamespaceMagics",
        "xdel": "NamespaceMagics",
        "xmode": "BasicMagics"
       }
      },
      "text/plain": [
       "Available line magics:\n",
       "%alias  %alias_magic  %autoawait  %autocall  %automagic  %autosave  %bookmark  %cd  %clear  %cls  %code_wrap  %colors  %conda  %config  %connect_info  %copy  %ddir  %debug  %dhist  %dirs  %doctest_mode  %echo  %ed  %edit  %env  %gui  %hist  %history  %killbgscripts  %ldir  %less  %load  %load_ext  %loadpy  %logoff  %logon  %logstart  %logstate  %logstop  %ls  %lsmagic  %macro  %magic  %mamba  %matplotlib  %micromamba  %mkdir  %more  %notebook  %page  %pastebin  %pdb  %pdef  %pdoc  %pfile  %pinfo  %pinfo2  %pip  %popd  %pprint  %precision  %prun  %psearch  %psource  %pushd  %pwd  %pycat  %pylab  %qtconsole  %quickref  %recall  %rehashx  %reload_ext  %ren  %rep  %rerun  %reset  %reset_selective  %rmdir  %run  %save  %sc  %set_env  %store  %sx  %system  %tb  %time  %timeit  %unalias  %unload_ext  %who  %who_ls  %whos  %xdel  %xmode\n",
       "\n",
       "Available cell magics:\n",
       "%%!  %%HTML  %%SVG  %%bash  %%capture  %%cmd  %%code_wrap  %%debug  %%file  %%html  %%javascript  %%js  %%latex  %%markdown  %%perl  %%prun  %%pypy  %%python  %%python2  %%python3  %%ruby  %%script  %%sh  %%svg  %%sx  %%system  %%time  %%timeit  %%writefile\n",
       "\n",
       "Automagic is ON, % prefix IS NOT needed for line magics."
      ]
     },
     "execution_count": 4,
     "metadata": {},
     "output_type": "execute_result"
    }
   ],
   "source": [
    "# for list of all available commands:\n",
    "%lsmagic"
   ]
  },
  {
   "cell_type": "markdown",
   "id": "9d70d144-eca0-40b7-8f2f-a1df63dd6f2a",
   "metadata": {},
   "source": [
    "### *%timeit* magic command\n",
    "A very important for code performace to check time needed for running different parts of the code. One can use convinient %timeit magic command:\n",
    "Double '%%' for time cell, single '%' for line"
   ]
  },
  {
   "cell_type": "code",
   "execution_count": 3,
   "id": "1f9811d1-3ca3-4288-af70-2741806b5a8a",
   "metadata": {},
   "outputs": [
    {
     "name": "stdout",
     "output_type": "stream",
     "text": [
      "24.8 µs ± 4.23 µs per loop (mean ± std. dev. of 7 runs, 100,000 loops each)\n"
     ]
    }
   ],
   "source": [
    "%%timeit\n",
    "\n",
    "for i in range(100):\n",
    "    b = (2 * i + 1) * i\n",
    "    #c = b / (i + 1) + b * b"
   ]
  },
  {
   "cell_type": "code",
   "execution_count": 20,
   "id": "01286525-b657-433d-b14a-e7a9e88efe3a",
   "metadata": {},
   "outputs": [
    {
     "data": {
      "text/plain": [
       "16"
      ]
     },
     "execution_count": 20,
     "metadata": {},
     "output_type": "execute_result"
    }
   ],
   "source": [
    "a = [1, 3, 5, 7]\n",
    "sum(a)"
   ]
  },
  {
   "cell_type": "markdown",
   "id": "73eec55a-f565-46aa-9629-f5421ec98628",
   "metadata": {},
   "source": [
    "***\n",
    "## **Exercise 2**\n",
    "1) Write small code to compute the sum of all numbers in range $[0, ..., 1000000]$ using iteration `for` loop. Do `%%timeit` for your code cell.\n",
    "2) Make another cell and compute the same sum using `sum()` and `range()` python functions. Do `%%timeit`.\n",
    "3) Which code working faster? Why do you think?\n",
    "***"
   ]
  },
  {
   "cell_type": "markdown",
   "id": "fd37a366-14ef-44a0-a420-383603884e30",
   "metadata": {},
   "source": [
    "## Conclusive remarks on Jupyter\n",
    "\n",
    "### Why we love Jupyter:\n",
    "* Easy to edit, check, re-edit quickly for testing new ideas and simple codes\n",
    "* Is the best to getting started with python programming and very usefull for data analysis and plotting the results\n",
    "* Make whole story in one notebook compiling together parts of the code, description, images, etc.\n",
    "* Easy to share with your advisor/tutor, just by sending the Jupyter notebook file, giving possibility to check the codes\n",
    "* Notebook can be used as an interactive publication\n",
    "* Teaching and learning - great for getting difficult software distribution out of the way\n",
    "\n",
    "### Why we do not love Jupyter so much:\n",
    "*Jupyter is great for many things, but there are some problems, mainly for advanced programming...*\n",
    "* No modularity is provided, and once you start code development in a notebook it can be hard to migrate to modules\n",
    "* Difficult to test\n",
    "* Limitations on version control\n",
    "* Changing cells and rum them not in order makes debugging very hard!\n",
    "* Be careful with organization! Once lots of code is in notebooks, it can be hard to change to proper programs that can be scripted."
   ]
  },
  {
   "cell_type": "markdown",
   "id": "7a47ec1c-f590-4d1a-be80-a333e950faac",
   "metadata": {},
   "source": [
    "***\n",
    "## **Home work Lecture 3**\n",
    "\n",
    "### Compute sum of first twenty Fibonacci numbers\n",
    "\n",
    "Fibonacci numbers defined by the following recurrence equations:\n",
    "\n",
    "\\begin{eqnarray}\n",
    "&&F_0=0,\\\\\n",
    "&&F_1=1,\\\\\n",
    "&&F_2=F_0+F_1,\\\\\n",
    "&&F_3=F_1+F_2,\\\\\n",
    "&&\\cdots\\\\\n",
    "&&F_n=F_{n-1}+F_{n-2}\n",
    "\\end{eqnarray}\n",
    "\n",
    "In other words, for $n=0, 1$ the numbers are given, and for all $n>1$: $F_n=F_{n-1}+F_{n-2}$. \n",
    "\n",
    "1) Compute the sum of first twenty Fibonacci numbers\n",
    "$$\n",
    "S = F_0 + F_1 + ... + F_{19}\n",
    "$$\n",
    "For this, enter the code in the cell below starting from `# YOUR CODE HERE` line. Run the code. If your solution is incorrect, you will see error message.\n",
    "\n",
    "- *Hint 1:* Apply iteration loop `for i in range(19):` .\n",
    "- *Hint 2:* You may check Fibonacci numbers with [Wikipedia](https://en.wikipedia.org/wiki/Fibonacci_sequence) before performing summation.\n",
    "\n",
    "2) Copy your code to a new cell, comment all `print` commands. Use `%%timeit` magic function to time your Fibonacci-summation code. Increase the number of terms to $n=200$. How much computation time increases? Is it linear dependence of $n$?\n",
    "\n",
    "3) Create a Markdown cell, give it a title and short description how the code is working. Use a bullet list, and some text styles (bold, italic, or inline code). Explain your insights concerning $n$-dependence of computation time.\n",
    "\n",
    "**Save this notebook and upload it to Canvas!**"
   ]
  },
  {
   "cell_type": "code",
   "execution_count": null,
   "id": "57a54ca5-0d53-442e-8227-fd98fb42daab",
   "metadata": {},
   "outputs": [],
   "source": []
  }
 ],
 "metadata": {
  "kernelspec": {
   "display_name": "Python 3 (ipykernel)",
   "language": "python",
   "name": "python3"
  },
  "language_info": {
   "codemirror_mode": {
    "name": "ipython",
    "version": 3
   },
   "file_extension": ".py",
   "mimetype": "text/x-python",
   "name": "python",
   "nbconvert_exporter": "python",
   "pygments_lexer": "ipython3",
   "version": "3.12.0"
  }
 },
 "nbformat": 4,
 "nbformat_minor": 5
}

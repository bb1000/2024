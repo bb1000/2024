{
 "cells": [
  {
   "cell_type": "markdown",
   "id": "9e46da91",
   "metadata": {
    "slideshow": {
     "slide_type": "slide"
    }
   },
   "source": [
    "# BB1000 - Lecture 9:Good practices, style and formatting, packages, modules, import \n",
    "\n",
    "Zilvinas Rinkevicius rinkevic@kth.se"
   ]
  },
  {
   "cell_type": "markdown",
   "id": "1986b188-64db-43a3-b39a-cd8d17e6cff0",
   "metadata": {},
   "source": [
    "## Code Formatting \n",
    "\n",
    "It is strongly recommend to follow PEP8 style guidlines (https://peps.python.org/pep-0008/).\n",
    "\n",
    "Main points from PEP8 style guide summarized bellow.\n"
   ]
  },
  {
   "cell_type": "markdown",
   "id": "45caf63c-2025-45d8-a520-817a3dbd6ce1",
   "metadata": {},
   "source": [
    "### Indentation \n",
    "\n",
    "```python\n",
    "# Correct:\n",
    "\n",
    "# Aligned with opening delimiter.\n",
    "foo = long_function_name(var_one, var_two,\n",
    "                         var_three, var_four)\n",
    "\n",
    "# Add 4 spaces (an extra level of indentation) to distinguish arguments from the rest.\n",
    "def long_function_name(\n",
    "        var_one, var_two, var_three,\n",
    "        var_four):\n",
    "    print(var_one)\n",
    "\n",
    "# Hanging indents should add a level.\n",
    "foo = long_function_name(\n",
    "    var_one, var_two,\n",
    "    var_three, var_four)\n",
    "\n",
    "# Wrong:\n",
    "\n",
    "# Arguments on first line forbidden when not using vertical alignment.\n",
    "foo = long_function_name(var_one, var_two,\n",
    "    var_three, var_four)\n",
    "\n",
    "# Further indentation required as indentation is not distinguishable.\n",
    "def long_function_name(\n",
    "    var_one, var_two, var_three,\n",
    "    var_four):\n",
    "    print(var_one)\n",
    "\n",
    "# No extra indentation.\n",
    "if (this_is_one_thing and\n",
    "    that_is_another_thing):\n",
    "    do_something()\n",
    "\n",
    "# Add a comment, which will provide some distinction in editors\n",
    "# supporting syntax highlighting.\n",
    "if (this_is_one_thing and\n",
    "    that_is_another_thing):\n",
    "    # Since both conditions are true, we can frobnicate.\n",
    "    do_something()\n",
    "\n",
    "# Add some extra indentation on the conditional continuation line.\n",
    "if (this_is_one_thing\n",
    "        and that_is_another_thing):\n",
    "    do_something()\n",
    "\n",
    "# list, etc \n",
    "my_list = [\n",
    "    1, 2, 3,\n",
    "    4, 5, 6,\n",
    "    ]\n",
    "result = some_function_that_takes_arguments(\n",
    "    'a', 'b', 'c',\n",
    "    'd', 'e', 'f',\n",
    "    )\n",
    "```"
   ]
  },
  {
   "cell_type": "markdown",
   "id": "5ccf5e78-d08c-4680-aa47-5cca1edfcfc0",
   "metadata": {},
   "source": [
    "### Maximum Line Length\n",
    "\n",
    "Limit all lines to a maximum of 79 characters.\n",
    "\n",
    "For flowing long blocks of text with fewer structural restrictions (docstrings or comments), the line length should be limited to 72 characters."
   ]
  },
  {
   "cell_type": "markdown",
   "id": "f9241083-3d5f-4f85-8377-59f94f00cf3f",
   "metadata": {},
   "source": [
    "### Breaking long code lines\n",
    "\n",
    "```python\n",
    "# Correct:\n",
    "# easy to match operators with operands\n",
    "income = (gross_wages\n",
    "          + taxable_interest\n",
    "          + (dividends - qualified_dividends)\n",
    "          - ira_deduction\n",
    "          - student_loan_interest)\n",
    "\n",
    "# Wrong:\n",
    "# operators sit far away from their operands\n",
    "income = (gross_wages +\n",
    "          taxable_interest +\n",
    "          (dividends - qualified_dividends) -\n",
    "          ira_deduction -\n",
    "          student_loan_interest)\n",
    "```"
   ]
  },
  {
   "cell_type": "markdown",
   "id": "ac9a17ed-7036-4bbe-ab19-2e4e6d5f627d",
   "metadata": {},
   "source": [
    "### Importing modules\n",
    "\n",
    "```python\n",
    "# Correct:\n",
    "import os\n",
    "import sys\n",
    "from subprocess import Popen, PIPE\n",
    "\n",
    "# Wrong:\n",
    "import sys, os\n",
    "```"
   ]
  },
  {
   "cell_type": "markdown",
   "id": "2fe72674-c5b0-4570-828f-50ad48823d82",
   "metadata": {},
   "source": [
    "### Naming conventions\n",
    "\n",
    "- b (single lowercase letter)\n",
    "- B (single uppercase letter)\n",
    "- lowercase\n",
    "- lower_case_with_underscores\n",
    "- UPPERCASE\n",
    "- UPPER_CASE_WITH_UNDERSCORES\n",
    "- CamelCase (recommended for classes)"
   ]
  },
  {
   "cell_type": "markdown",
   "id": "5bdef6dc",
   "metadata": {
    "slideshow": {
     "slide_type": "slide"
    }
   },
   "source": [
    "### Automatic formatting of Python code \n",
    "\n",
    "**yapf** module provides tools to format Python code.\n",
    "YAPF homepage: https://github.com/google/yapf"
   ]
  },
  {
   "cell_type": "markdown",
   "id": "9502faec-d4d1-4c66-9e6b-23c8d90c26fc",
   "metadata": {
    "slideshow": {
     "slide_type": "slide"
    }
   },
   "source": [
    "### Exercise: Code formatting    "
   ]
  },
  {
   "cell_type": "code",
   "execution_count": 1,
   "id": "cae855df-1ecb-4eab-843c-8942a3600ac0",
   "metadata": {},
   "outputs": [],
   "source": [
    "# install yapf module using pip \n",
    "\n",
    "# create uglycode.py with following code: \n",
    "\n",
    "x = {  'a':37,'b':42,\n",
    "\n",
    "'c':927}\n",
    "\n",
    "y = 'hello ''world'\n",
    "z = 'hello '+'world'\n",
    "a = 'hello {}'.format('world')\n",
    "class foo  (     object  ):\n",
    "  def f    (self   ):\n",
    "    return       37*-+2\n",
    "  def g(self, x,y=42):\n",
    "      return y\n",
    "def f  (   a ) :\n",
    "  return      37+-+a[42-x :  y**3]\n",
    "\n",
    "# format uglycode.py file with yapf using command line"
   ]
  },
  {
   "cell_type": "code",
   "execution_count": 23,
   "id": "232da625-2018-4de8-b8ac-744125ef83af",
   "metadata": {},
   "outputs": [
    {
     "name": "stdout",
     "output_type": "stream",
     "text": [
      "[1, 2, 3, 4, 5]\n",
      "{2023: [1, 2, 3, 4, 5]}\n",
      "[1, 10, 3, 4, 5]\n",
      "{2023: [1, 2, 3, 4, 5]}\n"
     ]
    }
   ],
   "source": [
    "import copy \n",
    "# Using deepcopy to avoid problems with referencing \n",
    "# Create a list of grades   \n",
    "grades = [1, 2, 3, 4, 5]\n",
    "print(grades)\n",
    "\n",
    "# Create course grades indexed by year\n",
    "grades_data = {2023 : copy.deepcopy(grades)}\n",
    "print(grades_data)\n",
    "\n",
    "# Changing list of grades \n",
    "grades[1] = 10\n",
    "print(grades)\n",
    "print(grades_data)"
   ]
  },
  {
   "cell_type": "markdown",
   "id": "ae633d59-0ae1-4cbc-a3b8-0adfbef5423e",
   "metadata": {
    "slideshow": {
     "slide_type": "slide"
    }
   },
   "source": [
    "## Modules and imports \n",
    "\n",
    "**Modules** are standard or custom code blocks combined into modules. \n",
    "\n",
    "- standard module is numpy\n",
    "- custom module is Python files with extension \".py\"\n",
    "\n",
    "**Using module** in your own code **import** command  "
   ]
  },
  {
   "cell_type": "code",
   "execution_count": 3,
   "id": "91f8cbed",
   "metadata": {},
   "outputs": [
    {
     "data": {
      "text/plain": [
       "['__doc__',\n",
       " '__file__',\n",
       " '__loader__',\n",
       " '__name__',\n",
       " '__package__',\n",
       " '__spec__',\n",
       " 'acos',\n",
       " 'acosh',\n",
       " 'asin',\n",
       " 'asinh',\n",
       " 'atan',\n",
       " 'atan2',\n",
       " 'atanh',\n",
       " 'ceil',\n",
       " 'comb',\n",
       " 'copysign',\n",
       " 'cos',\n",
       " 'cosh',\n",
       " 'degrees',\n",
       " 'dist',\n",
       " 'e',\n",
       " 'erf',\n",
       " 'erfc',\n",
       " 'exp',\n",
       " 'expm1',\n",
       " 'fabs',\n",
       " 'factorial',\n",
       " 'floor',\n",
       " 'fmod',\n",
       " 'frexp',\n",
       " 'fsum',\n",
       " 'gamma',\n",
       " 'gcd',\n",
       " 'hypot',\n",
       " 'inf',\n",
       " 'isclose',\n",
       " 'isfinite',\n",
       " 'isinf',\n",
       " 'isnan',\n",
       " 'isqrt',\n",
       " 'lcm',\n",
       " 'ldexp',\n",
       " 'lgamma',\n",
       " 'log',\n",
       " 'log10',\n",
       " 'log1p',\n",
       " 'log2',\n",
       " 'modf',\n",
       " 'nan',\n",
       " 'nextafter',\n",
       " 'perm',\n",
       " 'pi',\n",
       " 'pow',\n",
       " 'prod',\n",
       " 'radians',\n",
       " 'remainder',\n",
       " 'sin',\n",
       " 'sinh',\n",
       " 'sqrt',\n",
       " 'tan',\n",
       " 'tanh',\n",
       " 'tau',\n",
       " 'trunc',\n",
       " 'ulp']"
      ]
     },
     "execution_count": 3,
     "metadata": {},
     "output_type": "execute_result"
    }
   ],
   "source": [
    "import math as mt\n",
    "dir(mt)"
   ]
  },
  {
   "cell_type": "markdown",
   "id": "3c302f95",
   "metadata": {
    "slideshow": {
     "slide_type": "subslide"
    }
   },
   "source": [
    "### Alternative import variants"
   ]
  },
  {
   "cell_type": "code",
   "execution_count": 4,
   "id": "3e20f043",
   "metadata": {
    "slideshow": {
     "slide_type": "-"
    }
   },
   "outputs": [
    {
     "name": "stdout",
     "output_type": "stream",
     "text": [
      "1.4142135623730951\n"
     ]
    }
   ],
   "source": [
    "import numpy \n",
    "from math import sqrt \n",
    "print(sqrt(2.0))"
   ]
  },
  {
   "cell_type": "markdown",
   "id": "8b670a4d-0d74-4d42-af06-24255ac198f8",
   "metadata": {},
   "source": [
    "### Guarding against execution in module\n",
    "\n",
    "```python\n",
    "if __name__ == \"__main__\":\n",
    "    import sys\n",
    "    print(sys.argv[1])\n",
    "```"
   ]
  },
  {
   "cell_type": "markdown",
   "id": "ad41b37d-3a20-41d5-b5d0-df5e2774d9b7",
   "metadata": {},
   "source": [
    "## Package \n",
    "\n",
    "- Add all Python included into package under desired directory structure\n",
    "- Include __init__.py file to initialize package"
   ]
  },
  {
   "cell_type": "markdown",
   "id": "b901d213",
   "metadata": {
    "slideshow": {
     "slide_type": "slide"
    }
   },
   "source": [
    "## The end"
   ]
  }
 ],
 "metadata": {
  "celltoolbar": "Slideshow",
  "kernelspec": {
   "display_name": "Python 3 (ipykernel)",
   "language": "python",
   "name": "python3"
  },
  "language_info": {
   "codemirror_mode": {
    "name": "ipython",
    "version": 3
   },
   "file_extension": ".py",
   "mimetype": "text/x-python",
   "name": "python",
   "nbconvert_exporter": "python",
   "pygments_lexer": "ipython3",
   "version": "3.9.18"
  }
 },
 "nbformat": 4,
 "nbformat_minor": 5
}

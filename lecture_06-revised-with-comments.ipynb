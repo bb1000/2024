{
 "cells": [
  {
   "cell_type": "markdown",
   "id": "9e46da91",
   "metadata": {
    "slideshow": {
     "slide_type": "slide"
    }
   },
   "source": [
    "# BB1000 - Lecture 6: File I/O and Pandas\n",
    "\n",
    "Josefine H. Andersen"
   ]
  },
  {
   "cell_type": "code",
   "execution_count": null,
   "id": "482666ba",
   "metadata": {
    "slideshow": {
     "slide_type": "slide"
    }
   },
   "outputs": [],
   "source": [
    "import numpy as np\n",
    "import pandas as pd"
   ]
  },
  {
   "cell_type": "markdown",
   "id": "1986b188-64db-43a3-b39a-cd8d17e6cff0",
   "metadata": {},
   "source": [
    "## File I/O"
   ]
  },
  {
   "cell_type": "markdown",
   "id": "45caf63c-2025-45d8-a520-817a3dbd6ce1",
   "metadata": {},
   "source": [
    "### File with text"
   ]
  },
  {
   "cell_type": "code",
   "execution_count": null,
   "id": "e0fabafc-ccc3-47fa-91e1-6ee5dbbc9960",
   "metadata": {},
   "outputs": [],
   "source": [
    "# Typical call to open():\n",
    "# open(\"filename\", \"mode\")"
   ]
  },
  {
   "cell_type": "markdown",
   "id": "187808cd-d4a3-4655-9917-8b1af895c80a",
   "metadata": {},
   "source": [
    "A file is opened by use of the function `open()`. The syntax is as follows:\n",
    "`file = open(\"filename\", \"mode\")`\n",
    "\n",
    "The `\"mode\"` input indicates the *mode* with which we open the file: we will use\n",
    "- `\"r\"`: this opens the file as read-only. If the file does not exist, it will give an error\n",
    "- `\"w\"`: this opens the file for writing. If the file does not exist, it is created, if the file does exist, *the content is deleted* so we write to an empty file\n",
    "- `r+`: this opens the file for both reading and writing. If the file does not exist, it will give an error\n",
    "\n",
    "For more info see, e.g., [this link](https://tutorial.eyehunts.com/python/python-file-modes-open-write-append-r-r-w-w-x-etc/)"
   ]
  },
  {
   "cell_type": "code",
   "execution_count": null,
   "id": "64722528-addd-481a-95cc-39ddd312ff39",
   "metadata": {},
   "outputs": [],
   "source": [
    "# Here, we open a file in write mode, the file does not exist yet.\n",
    "# We will name the file \"file_created.txt\"\n",
    "created_file = open(\"file_created.txt\", \"w\") # open a file named \"file_created.txt\" in write-mode and \n",
    "                                             # \"save\" it in variable \"created_file\" \n",
    "created_file.close() # close the file again -- THIS IS IMPORTANT TO KEEP TRACK OF, TO AVOID BUGS\n",
    "# you can now see the file in your file browser on the left"
   ]
  },
  {
   "cell_type": "code",
   "execution_count": null,
   "id": "61e99c37-fc8c-4251-9189-2c3136890fcc",
   "metadata": {},
   "outputs": [],
   "source": [
    "# Here, we open a file in read-only mode\n",
    "# The name of the file is \"text_file.txt\" and you can find it on Canvas Module 6.\n",
    "# Make sure that the file is in your Lecture_06 directory and that \n",
    "# you can open it here in Jupyter-lab\n",
    "text_file_name = \"text_file.txt\" # save\" the file name as a variable\n",
    "text_file = open(text_file_name,\"r\") # open the file in read-mode and \"save\" it in variable \"text_file\" "
   ]
  },
  {
   "cell_type": "markdown",
   "id": "3538a4d6-8539-45d4-afe6-d0a518ebc60f",
   "metadata": {},
   "source": [
    "There are different functions to get the content of the file. We will use `read()`.\n",
    "\n",
    "**BEWARE** that once you have read the file, the program will be \"at the end\" of the file. If you run the next cell twice, nothing will be printed. A solution to this will be described in a following cell"
   ]
  },
  {
   "cell_type": "code",
   "execution_count": null,
   "id": "957826f6-9972-415f-bd70-3433fda26cef",
   "metadata": {
    "scrolled": true
   },
   "outputs": [],
   "source": [
    "text_file_content = text_file.read() # read the content of the file from the variable\n",
    "                                     # \"text_file\" which contains the file information\n",
    "                                     # and save it in variable \"text_file_content\"\n",
    "print(text_file_content) # print the text_file_content that we just read\n",
    "                         # compare the output to the file you have opened here in Jupyter lab"
   ]
  },
  {
   "cell_type": "markdown",
   "id": "caf521ca-ff7c-4b6c-942f-c5825aafd158",
   "metadata": {},
   "source": [
    "If we want to read the file again from the top, we can reset the \"position\" in the file with `.seek()`"
   ]
  },
  {
   "cell_type": "code",
   "execution_count": null,
   "id": "47f0c248-8b16-420c-8c40-98424c21a072",
   "metadata": {},
   "outputs": [],
   "source": [
    "text_file.seek(0, 0) # go to the first (\"zeroth\") letter in line 0 (i.e. line 1 from our POV - Remember Python counts from zero!)\n",
    "                     # \n",
    "# this cell will print out \"0\". I don't know why (it is the line number)"
   ]
  },
  {
   "cell_type": "code",
   "execution_count": null,
   "id": "26bbef33-5c2e-4f4f-ac13-f70b7b867759",
   "metadata": {},
   "outputs": [],
   "source": [
    "text_file.close() # we close the file to prepare for the next part"
   ]
  },
  {
   "cell_type": "code",
   "execution_count": null,
   "id": "ff5841ff-9c78-4f6b-8e76-ea46da7eb582",
   "metadata": {},
   "outputs": [],
   "source": [
    "text_file = open(text_file_name,\"r+\") # opens the file in read+write mode"
   ]
  },
  {
   "cell_type": "code",
   "execution_count": null,
   "id": "10ac9445-b491-400b-80fe-486789e6ad14",
   "metadata": {
    "scrolled": true
   },
   "outputs": [],
   "source": [
    "# we can loop through the lines in the file, similar to what we have done with arrays\n",
    "for line in text_file: # loop through the file. The iterator \"line\" will contain the line in\n",
    "                       # the file that we are currently looking at in the loop\n",
    "    print(line) # print the line in each iteration. Compare to the output from the print of the file content above"
   ]
  },
  {
   "cell_type": "markdown",
   "id": "1ac9da55-7e43-480a-92ca-a8a80d13b755",
   "metadata": {},
   "source": [
    "Looping through the lines in the file can be useful f.ex. if we want to search for a specific string.\n",
    "In the following, we will look for the line \"This is the line to be printed by josefine!\" (find the line in the file that you have opened here in jupyter lab."
   ]
  },
  {
   "cell_type": "code",
   "execution_count": null,
   "id": "98e58646-d58a-4a50-9959-144ce62dd131",
   "metadata": {
    "scrolled": true
   },
   "outputs": [],
   "source": [
    "text_file.seek(0,0) # move to the first line in the file before we loop.\n",
    "\n",
    "# loop through lines in file and search for a line containing the word \"josefine\"\n",
    "for i, line in enumerate(text_file, 1): # the \"enumerate\" function adds an iterator to the loop. \n",
    "                                        # This is the \"i\" in \"for i, line ...\".\n",
    "                                        # The \"1\" in \"enumerate(text_file, 1)\" means that the function\n",
    "                                        # will count from 1 (and not zero, as is default)\n",
    "    if 'josefine' in line: # a conditional statement. If the string is found in the line, \n",
    "                           # the following code will be executed\n",
    "        print(i, line) # print the iterator \"i\" and the \"line\" where the word \"josefine\" occurs\n",
    "        # now, we make a variable called \"sentence\" which will contain a string.\n",
    "        sentence = \"Josefine's line was line number \" + str(i) + '\\n' # in order to add the iterator (i.e., line \n",
    "                        # counter), we must use it as a string data type. This is done with \"str()\"\n",
    "                        # The string '\\n' is a command that adds a line-shift. I.e., if you print/write\n",
    "                        # another string after \"sentence\", it will be on a new line\n",
    "\n",
    "print(sentence) # print the sentence we defined above. Does it match what you see in the text file?"
   ]
  },
  {
   "cell_type": "markdown",
   "id": "caafd91a-10af-4312-b9b2-920e02dfbdeb",
   "metadata": {},
   "source": [
    "Now, we want to write the sentence we defined above to the file. For this, we use the function `.write()`"
   ]
  },
  {
   "cell_type": "code",
   "execution_count": null,
   "id": "b8c8284c-ab75-425a-9f68-c2b0b86b08f1",
   "metadata": {},
   "outputs": [],
   "source": [
    "# First, we make sure we are at the end of the file\n",
    "text_file.seek(0,2) # the second input, \"2\", indicates that we seek the end of the file. \n",
    "                    # For more details, google\n",
    "                    # This will print out the number 35, I don't know why it prints (it is the line number)\n",
    "\n",
    "text_file.write(sentence) # write the variable \"sentence\" to the text_file"
   ]
  },
  {
   "cell_type": "code",
   "execution_count": null,
   "id": "0415810e-1181-4465-8287-02e6f054678b",
   "metadata": {},
   "outputs": [],
   "source": [
    "# reset our position to the beginning of the file\n",
    "text_file.seek(0,0)\n",
    "# print the content. Do you see the new line in the output?\n",
    "print( text_file.read() )\n",
    "\n",
    "#To see the changes directly in the file, you might have to close and open it again in jupyter-lab"
   ]
  },
  {
   "cell_type": "code",
   "execution_count": null,
   "id": "dc8c86d0-83d1-4449-85e2-0ded89cf4130",
   "metadata": {},
   "outputs": [],
   "source": [
    "# close the file\n",
    "text_file.close()"
   ]
  },
  {
   "cell_type": "markdown",
   "id": "f9241083-3d5f-4f85-8377-59f94f00cf3f",
   "metadata": {},
   "source": [
    "### Numpy arrays\n",
    "Now we want to read and write numpy arrays from and to text files. To save an array, we use the numpy function `np.savetxt()` and to read into an array, we use `np.genfromtxt()`."
   ]
  },
  {
   "cell_type": "code",
   "execution_count": null,
   "id": "41fa0f25-4269-4992-ba2d-fccfd48c7c4a",
   "metadata": {},
   "outputs": [],
   "source": [
    "# First, we create a 2x2 array with random numbers\n",
    "array2d = np.random.rand(2,2) # 2 rows, 2 columns\n",
    "print(array2d)"
   ]
  },
  {
   "cell_type": "code",
   "execution_count": null,
   "id": "fa23d686-8858-4c55-b37e-5eb7ba1c7bd1",
   "metadata": {},
   "outputs": [],
   "source": [
    "# Write the array to a file named \"data_file.txt\"\n",
    "np.savetxt('data_file.txt', array2d)"
   ]
  },
  {
   "cell_type": "code",
   "execution_count": null,
   "id": "6fbcbc27-0c1f-4885-8bca-26ea66889df3",
   "metadata": {},
   "outputs": [],
   "source": [
    "# We now open and read+print the file as a regular text file\n",
    "file = open('data_file.txt','r') # open file named \"data_file.txt\" in read-mode\n",
    "print( file.read() ) # print the file content\n",
    "file.close() # close the file\n",
    "# In the output, do you recognize you array?"
   ]
  },
  {
   "cell_type": "code",
   "execution_count": null,
   "id": "0abac9a9-d42b-49ad-983e-ebd7afff5911",
   "metadata": {},
   "outputs": [],
   "source": [
    "# Here we create an np array from the data in the file \"data_file.txt\"\n",
    "array_from_file = np.genfromtxt('data_file.txt')\n",
    "print(array_from_file)"
   ]
  },
  {
   "cell_type": "markdown",
   "id": "28e2456d-c837-4a4c-9d87-7cca9168b184",
   "metadata": {},
   "source": [
    "Now we want to combine the array we read from file with another array of the same dimension using `np.append`"
   ]
  },
  {
   "cell_type": "code",
   "execution_count": null,
   "id": "bccc8bae-482d-4edb-be3b-0a3a99d68b57",
   "metadata": {},
   "outputs": [],
   "source": [
    "# make a new 2D array filled with random numbers\n",
    "new_array2d = np.random.rand(2,2)\n",
    "print(new_array2d)"
   ]
  },
  {
   "cell_type": "code",
   "execution_count": null,
   "id": "6cd2e350-1c42-4690-9358-82941f816b65",
   "metadata": {},
   "outputs": [],
   "source": [
    "# combine the two arrays along axis 1 (columns) \n",
    "combined_array = np.append(array_from_file, new_array2d, axis = 1)\n",
    "print(combined_array.shape) # print the shape of the array, i.e. the number of rows and columns\n",
    "print(combined_array) \n",
    "# Do you recognize the values?"
   ]
  },
  {
   "cell_type": "code",
   "execution_count": null,
   "id": "606ae8d8-b429-409e-82c2-c6d56420c16f",
   "metadata": {},
   "outputs": [],
   "source": [
    "# Here we save the combined_array in a new file named \"combined_array_file.txt\" with non-default delimiter\n",
    "# The delimiter is the \"seperator\" between the values in the array that we are saving in the file.\n",
    "np.savetxt('combined_array_file.txt', combined_array, delimiter=' , ') # write array til text file as comma-separated values"
   ]
  },
  {
   "cell_type": "code",
   "execution_count": null,
   "id": "846573a3-8f4b-412c-b13d-88dfc0ad9766",
   "metadata": {},
   "outputs": [],
   "source": [
    "# open, print, close new data file\n",
    "new_data = open('combined_array_file.txt','r') # read-mode\n",
    "print(new_data.read())\n",
    "new_data.close()"
   ]
  },
  {
   "cell_type": "markdown",
   "id": "5bdef6dc",
   "metadata": {
    "slideshow": {
     "slide_type": "slide"
    }
   },
   "source": [
    "## Pandas\n",
    "**Documentation for the pandas package**:\n",
    "[https://pandas.pydata.org/docs/reference/index.html#api](https://pandas.pydata.org/docs/reference/index.html#api)\n"
   ]
  },
  {
   "cell_type": "markdown",
   "id": "9502faec-d4d1-4c66-9e6b-23c8d90c26fc",
   "metadata": {
    "slideshow": {
     "slide_type": "slide"
    }
   },
   "source": [
    "### Creating a data frame \n",
    "We want to create a pandas dataframe from our data saved in \"data_file.txt\""
   ]
  },
  {
   "cell_type": "code",
   "execution_count": null,
   "id": "cae855df-1ecb-4eab-843c-8942a3600ac0",
   "metadata": {},
   "outputs": [],
   "source": [
    "# read data from file into a numpy array\n",
    "array_from_file = np.genfromtxt('data_file.txt')\n",
    "print(array_from_file)"
   ]
  },
  {
   "cell_type": "code",
   "execution_count": null,
   "id": "232da625-2018-4de8-b8ac-744125ef83af",
   "metadata": {},
   "outputs": [],
   "source": [
    "# Here we create a pandas data frame with our array_from_file as data, and the strings 'A' and 'B'\n",
    "# as column names\n",
    "titles = ['A','B'] # create a list with column names.\n",
    "df_mydata = pd.DataFrame(array_from_file, columns=titles) # create a pandas dataframe named \"df_mydata\""
   ]
  },
  {
   "cell_type": "code",
   "execution_count": null,
   "id": "0b46bad0-92ed-4df5-84d9-326065c9ca94",
   "metadata": {},
   "outputs": [],
   "source": [
    "# print the data frame\n",
    "df_mydata"
   ]
  },
  {
   "cell_type": "code",
   "execution_count": null,
   "id": "34a419bf-4831-4c16-92f2-6f2be7e770db",
   "metadata": {},
   "outputs": [],
   "source": [
    "# We can extract selected columns from the data frame. Here, we print the column with name 'A'\n",
    "df_mydata['A']"
   ]
  },
  {
   "cell_type": "markdown",
   "id": "d9020401-d5b0-4a6c-8a47-4e323b84aadc",
   "metadata": {},
   "source": [
    "We now want to add a single column named 'C' to df_mydata."
   ]
  },
  {
   "cell_type": "code",
   "execution_count": null,
   "id": "5ee7a83c-7425-40f1-bdf6-7e29cc235ee8",
   "metadata": {},
   "outputs": [],
   "source": [
    "# First, create a new array with same # of rows as data from file\n",
    "new_data = np.arange(2)\n",
    "print(new_data)"
   ]
  },
  {
   "cell_type": "code",
   "execution_count": null,
   "id": "ba397e34-91fc-4e11-9510-bd65fccbbfa6",
   "metadata": {},
   "outputs": [],
   "source": [
    "# Create a column with name \"C\" and save the new_data\n",
    "df_mydata['C'] = new_data"
   ]
  },
  {
   "cell_type": "code",
   "execution_count": null,
   "id": "eb573371-7b38-4cc9-b23a-b7d7ea3a9239",
   "metadata": {},
   "outputs": [],
   "source": [
    "# There are now three data columns in our data frame\n",
    "df_mydata"
   ]
  },
  {
   "cell_type": "markdown",
   "id": "b901d213",
   "metadata": {
    "slideshow": {
     "slide_type": "slide"
    }
   },
   "source": [
    "## The end"
   ]
  }
 ],
 "metadata": {
  "celltoolbar": "Slideshow",
  "kernelspec": {
   "display_name": "Python 3 (ipykernel)",
   "language": "python",
   "name": "python3"
  },
  "language_info": {
   "codemirror_mode": {
    "name": "ipython",
    "version": 3
   },
   "file_extension": ".py",
   "mimetype": "text/x-python",
   "name": "python",
   "nbconvert_exporter": "python",
   "pygments_lexer": "ipython3",
   "version": "3.12.1"
  }
 },
 "nbformat": 4,
 "nbformat_minor": 5
}

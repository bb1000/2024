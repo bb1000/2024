{
 "cells": [
  {
   "cell_type": "markdown",
   "id": "9e46da91",
   "metadata": {
    "slideshow": {
     "slide_type": "slide"
    }
   },
   "source": [
    "# BB1000 - Lecture 8: Functions and classes, object-oriented programming\n",
    "\n",
    "Zilvinas Rinkevicius rinkevic@kth.se"
   ]
  },
  {
   "cell_type": "markdown",
   "id": "1986b188-64db-43a3-b39a-cd8d17e6cff0",
   "metadata": {},
   "source": [
    "## Functions\n",
    "\n",
    "**Python Function** is a collection of code lines that performs a specific task. \n",
    "\n",
    "Functions are used to remove the common and repeating blocks of code in the program."
   ]
  },
  {
   "cell_type": "markdown",
   "id": "45caf63c-2025-45d8-a520-817a3dbd6ce1",
   "metadata": {},
   "source": [
    "### Example: Converting repeating code blocks into function"
   ]
  },
  {
   "cell_type": "code",
   "execution_count": 1,
   "id": "e0fabafc-ccc3-47fa-91e1-6ee5dbbc9960",
   "metadata": {},
   "outputs": [
    {
     "name": "stdout",
     "output_type": "stream",
     "text": [
      "Robert Smith Grade : 8 Year : 2024\n",
      "Alice Doe Grade : 9 Year : 2023\n"
     ]
    }
   ],
   "source": [
    "# Printing student information (First Name, Last Name, Grade, and Year)\n",
    "print(\"Robert Smith Grade : \" + str(8) + \" Year : \" + str(2024))\n",
    "print(\"Alice Doe Grade : \" + str(9) + \" Year : \" + str(2023))"
   ]
  },
  {
   "cell_type": "code",
   "execution_count": 2,
   "id": "64722528-addd-481a-95cc-39ddd312ff39",
   "metadata": {},
   "outputs": [
    {
     "name": "stdout",
     "output_type": "stream",
     "text": [
      "Robert Smith Grade : 8 Semester : Spring Year : 2024\n",
      "Alice Doe Grade : 9 Semester : Fall Year : 2023\n"
     ]
    }
   ],
   "source": [
    "# Printing student information (First Name, Last Name, Grade, Semester, and Year)\n",
    "print(\"Robert Smith Grade : \" + str(8) + \" Semester : \" + \"Spring\" + \" Year : \" + str(2024))\n",
    "print(\"Alice Doe Grade : \" + str(9) + \" Semester : \" + \"Fall\" +\" Year : \" + str(2023))"
   ]
  },
  {
   "cell_type": "code",
   "execution_count": 3,
   "id": "2e33b05e-0064-4156-aad4-5b83765f1955",
   "metadata": {},
   "outputs": [],
   "source": [
    "# Creating function for printing: \n",
    "# First step: identify function input parameters \n",
    "# Second step: decide function return type \n",
    "# Third step: implement function body \n",
    "\n",
    "# Here, First Name, Last Name, Grade, Semester, and Year are natural \n",
    "# choice for input parameters \n",
    "\n",
    "def grade_info(first_name, last_name, grade, semester, year): \n",
    "    # function body goes here \n",
    "    return # formatted string \n",
    "# print(grade_info(\"Robert\", \"Smith\", 8, \"Spring\", 2024))\n",
    "# print(grade_info(\"Alice\", \"Doe\", 9, \"Fall\", 2023))\n"
   ]
  },
  {
   "cell_type": "markdown",
   "id": "5ccf5e78-d08c-4680-aa47-5cca1edfcfc0",
   "metadata": {},
   "source": [
    "### Default arguments"
   ]
  },
  {
   "cell_type": "code",
   "execution_count": 4,
   "id": "ff5841ff-9c78-4f6b-8e76-ea46da7eb582",
   "metadata": {},
   "outputs": [],
   "source": [
    "# Setting semester and year for specific course \n",
    "def new_grade_info(first_name, last_name, grade, semester = \"Spring\", year = 2024):\n",
    "    # copy function body from grade_info \n",
    "    return\n",
    "\n",
    "# calling function with reduced parameters list \n",
    "# print(new_grade_info(\"Robert\", \"Smith\", 8))\n",
    "# print(new_grade_info(\"Alice\", \"Doe\", 9))\n",
    "# calling function with full parameters list \n",
    "# print(new_grade_info(\"Robert\", \"Smith\", 8, \"Spring\", 2024))\n",
    "# print(new_grade_info(\"Alice\", \"Doe\", 9, \"Fall\", 2023))"
   ]
  },
  {
   "cell_type": "markdown",
   "id": "f9241083-3d5f-4f85-8377-59f94f00cf3f",
   "metadata": {},
   "source": [
    "## Dictionaries\n",
    "\n",
    "** Dictionary** is the Python data structure to store key:value pairs."
   ]
  },
  {
   "cell_type": "code",
   "execution_count": 5,
   "id": "41fa0f25-4269-4992-ba2d-fccfd48c7c4a",
   "metadata": {},
   "outputs": [
    {
     "name": "stdout",
     "output_type": "stream",
     "text": [
      "{'Robert Smith': 8, 'Alice Doe': 9}\n"
     ]
    }
   ],
   "source": [
    "# Creating dictionary for \"student name\":grade pairs: \n",
    "grades = {\"Robert Smith\" : 8, \"Alice Doe\" : 9}\n",
    "\n",
    "print(grades)"
   ]
  },
  {
   "cell_type": "code",
   "execution_count": 6,
   "id": "fa23d686-8858-4c55-b37e-5eb7ba1c7bd1",
   "metadata": {},
   "outputs": [
    {
     "name": "stdout",
     "output_type": "stream",
     "text": [
      "8\n",
      "dict_keys(['Robert Smith', 'Alice Doe'])\n",
      "{'Robert Smith': 8, 'Alice Doe': 9, 'John Smith': 10}\n",
      "{'Robert Smith': 2, 'Alice Doe': 9, 'John Smith': 10}\n",
      "dict_values([2, 9, 10])\n",
      "dict_items([('Robert Smith', 2), ('Alice Doe', 9), ('John Smith', 10)])\n",
      "Robert Smith found!\n",
      "{'Robert Smith': 2, 'Alice Doe': 9, 'John Smith': 10}\n",
      "{'Alice Doe': 9, 'John Smith': 10}\n"
     ]
    }
   ],
   "source": [
    "# Accessing dictionary element\n",
    "print(grades[\"Robert Smith\"])\n",
    "\n",
    "# Getting all keys in the dictionary: \n",
    "print(grades.keys())\n",
    "\n",
    "# Adding a new element to the dictionary \n",
    "grades[\"John Smith\"] = 10\n",
    "print(grades)\n",
    "\n",
    "# Changing value for the given key \n",
    "grades[\"Robert Smith\"] = 2\n",
    "print(grades)\n",
    "\n",
    "# Getting all values from the dictionary \n",
    "print(grades.values())\n",
    "\n",
    "# Getting all key:value pairs from the dictionary \n",
    "print(grades.items())\n",
    "\n",
    "# Checking if the key exists in the dictionary \n",
    "if \"Robert Smith\" in grades: \n",
    "    print(\"Robert Smith found!\")\n",
    "\n",
    "# Removing key:value pair from dictionary \n",
    "print(grades)\n",
    "grades.pop(\"Robert Smith\")\n",
    "print(grades)"
   ]
  },
  {
   "cell_type": "markdown",
   "id": "2fe72674-c5b0-4570-828f-50ad48823d82",
   "metadata": {},
   "source": [
    "## Exercise: Loop over dictionary items"
   ]
  },
  {
   "cell_type": "code",
   "execution_count": 7,
   "id": "6fbcbc27-0c1f-4885-8bca-26ea66889df3",
   "metadata": {},
   "outputs": [],
   "source": [
    "# Create a dictionary containing five student names and grades\n",
    "\n",
    "# Implement loop over dictionary items and print student \n",
    "# name in uppercase format (\"John Smith\" -> \"JOHN SMITH\") \n",
    "# followed by colon-separated grade, i.e.  \"JOHN SMITH:10\".\n",
    "\n"
   ]
  },
  {
   "cell_type": "markdown",
   "id": "5bdef6dc",
   "metadata": {
    "slideshow": {
     "slide_type": "slide"
    }
   },
   "source": [
    "## Data storage and retention in Python\n",
    "\n",
    "**Instances of variables** are stored by reference. Python manages memory by itself and removes variables from memory as it sees fit. "
   ]
  },
  {
   "cell_type": "markdown",
   "id": "9502faec-d4d1-4c66-9e6b-23c8d90c26fc",
   "metadata": {
    "slideshow": {
     "slide_type": "slide"
    }
   },
   "source": [
    "### Example: Accessing variables by reference  "
   ]
  },
  {
   "cell_type": "code",
   "execution_count": 8,
   "id": "cae855df-1ecb-4eab-843c-8942a3600ac0",
   "metadata": {},
   "outputs": [
    {
     "name": "stdout",
     "output_type": "stream",
     "text": [
      "[1, 2, 3, 4, 5]\n",
      "{2023: [1, 2, 3, 4, 5]}\n",
      "[1, 10, 3, 4, 5]\n",
      "{2023: [1, 10, 3, 4, 5]}\n"
     ]
    }
   ],
   "source": [
    "# Create a list of grades   \n",
    "grades = [1, 2, 3, 4, 5]\n",
    "print(grades)\n",
    "\n",
    "# Create course grades indexed by year\n",
    "grades_data = {2023 : grades}\n",
    "print(grades_data)\n",
    "\n",
    "# Changing list of grades \n",
    "grades[1] = 10\n",
    "print(grades)\n",
    "print(grades_data)"
   ]
  },
  {
   "cell_type": "code",
   "execution_count": 9,
   "id": "232da625-2018-4de8-b8ac-744125ef83af",
   "metadata": {},
   "outputs": [
    {
     "name": "stdout",
     "output_type": "stream",
     "text": [
      "[1, 2, 3, 4, 5]\n",
      "{2023: [1, 2, 3, 4, 5]}\n",
      "[1, 10, 3, 4, 5]\n",
      "{2023: [1, 2, 3, 4, 5]}\n"
     ]
    }
   ],
   "source": [
    "import copy \n",
    "# Using deepcopy to avoid problems with referencing \n",
    "# Create a list of grades   \n",
    "grades = [1, 2, 3, 4, 5]\n",
    "print(grades)\n",
    "\n",
    "# Create course grades indexed by year\n",
    "grades_data = {2023 : copy.deepcopy(grades)}\n",
    "print(grades_data)\n",
    "\n",
    "# Changing list of grades \n",
    "grades[1] = 10\n",
    "print(grades)\n",
    "print(grades_data)"
   ]
  },
  {
   "cell_type": "markdown",
   "id": "ae633d59-0ae1-4cbc-a3b8-0adfbef5423e",
   "metadata": {
    "slideshow": {
     "slide_type": "slide"
    }
   },
   "source": [
    "## Classes in Python\n",
    "\n",
    "**Class** combines data and methods to manipulate it into a single object. \n",
    "\n",
    "**All variables and functions ** are instances of specific classes in Python. \n"
   ]
  },
  {
   "cell_type": "code",
   "execution_count": 10,
   "id": "91f8cbed",
   "metadata": {},
   "outputs": [
    {
     "data": {
      "text/plain": [
       "['__add__',\n",
       " '__class__',\n",
       " '__contains__',\n",
       " '__delattr__',\n",
       " '__dir__',\n",
       " '__doc__',\n",
       " '__eq__',\n",
       " '__format__',\n",
       " '__ge__',\n",
       " '__getattribute__',\n",
       " '__getitem__',\n",
       " '__getnewargs__',\n",
       " '__getstate__',\n",
       " '__gt__',\n",
       " '__hash__',\n",
       " '__init__',\n",
       " '__init_subclass__',\n",
       " '__iter__',\n",
       " '__le__',\n",
       " '__len__',\n",
       " '__lt__',\n",
       " '__mod__',\n",
       " '__mul__',\n",
       " '__ne__',\n",
       " '__new__',\n",
       " '__reduce__',\n",
       " '__reduce_ex__',\n",
       " '__repr__',\n",
       " '__rmod__',\n",
       " '__rmul__',\n",
       " '__setattr__',\n",
       " '__sizeof__',\n",
       " '__str__',\n",
       " '__subclasshook__',\n",
       " 'capitalize',\n",
       " 'casefold',\n",
       " 'center',\n",
       " 'count',\n",
       " 'encode',\n",
       " 'endswith',\n",
       " 'expandtabs',\n",
       " 'find',\n",
       " 'format',\n",
       " 'format_map',\n",
       " 'index',\n",
       " 'isalnum',\n",
       " 'isalpha',\n",
       " 'isascii',\n",
       " 'isdecimal',\n",
       " 'isdigit',\n",
       " 'isidentifier',\n",
       " 'islower',\n",
       " 'isnumeric',\n",
       " 'isprintable',\n",
       " 'isspace',\n",
       " 'istitle',\n",
       " 'isupper',\n",
       " 'join',\n",
       " 'ljust',\n",
       " 'lower',\n",
       " 'lstrip',\n",
       " 'maketrans',\n",
       " 'partition',\n",
       " 'removeprefix',\n",
       " 'removesuffix',\n",
       " 'replace',\n",
       " 'rfind',\n",
       " 'rindex',\n",
       " 'rjust',\n",
       " 'rpartition',\n",
       " 'rsplit',\n",
       " 'rstrip',\n",
       " 'split',\n",
       " 'splitlines',\n",
       " 'startswith',\n",
       " 'strip',\n",
       " 'swapcase',\n",
       " 'title',\n",
       " 'translate',\n",
       " 'upper',\n",
       " 'zfill']"
      ]
     },
     "execution_count": 10,
     "metadata": {},
     "output_type": "execute_result"
    }
   ],
   "source": [
    "# use the dir command to find out information about class \n",
    "name = \"John Smith\"\n",
    "dir(name)"
   ]
  },
  {
   "cell_type": "markdown",
   "id": "3c302f95",
   "metadata": {
    "slideshow": {
     "slide_type": "subslide"
    }
   },
   "source": [
    "### Creating your own class "
   ]
  },
  {
   "cell_type": "code",
   "execution_count": null,
   "id": "3e20f043",
   "metadata": {
    "slideshow": {
     "slide_type": "-"
    },
    "tags": [
     "raises-exception"
    ]
   },
   "outputs": [],
   "source": [
    "# Implementing two-dimensional vector with Cartesian \n",
    "# coordinates x,y,z defined in 3D space\n",
    "\n",
    "class Vector3D:\n",
    "    def __init__(self, x, y, z):\n",
    "       # self.x = x\n",
    "       # self.y = y \n",
    "       # self.z = z\n",
    "        \n",
    "    def length(self):\n",
    "        \n",
    "    \n",
    "    def norm(self): \n",
    "       \n",
    "        \n",
    "    def __add__(self, other):\n",
    "       \n",
    "            \n",
    "    def __sub__(self, other):\n",
    "       \n",
    "    \n",
    "    def __repr__(self):\n",
    "        \n",
    "    \n"
   ]
  },
  {
   "cell_type": "markdown",
   "id": "8b670a4d-0d74-4d42-af06-24255ac198f8",
   "metadata": {},
   "source": [
    "#### **Exercise:** Adding multiplication function"
   ]
  },
  {
   "cell_type": "code",
   "execution_count": 11,
   "id": "7355b2f3-5300-41f0-a31a-c31df6d77465",
   "metadata": {},
   "outputs": [],
   "source": [
    "# Copy class from the above cell\n",
    "# Implement vector multiplication using __mult__ and __rmult__ operators \n",
    "# HINT: use isinstance() function to determine type of incoming parameters "
   ]
  },
  {
   "cell_type": "markdown",
   "id": "b901d213",
   "metadata": {
    "slideshow": {
     "slide_type": "slide"
    }
   },
   "source": [
    "## The end"
   ]
  }
 ],
 "metadata": {
  "celltoolbar": "Tags",
  "kernelspec": {
   "display_name": "Python 3 (ipykernel)",
   "language": "python",
   "name": "python3"
  },
  "language_info": {
   "codemirror_mode": {
    "name": "ipython",
    "version": 3
   },
   "file_extension": ".py",
   "mimetype": "text/x-python",
   "name": "python",
   "nbconvert_exporter": "python",
   "pygments_lexer": "ipython3",
   "version": "3.12.0"
  }
 },
 "nbformat": 4,
 "nbformat_minor": 5
}

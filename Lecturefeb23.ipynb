{
 "cells": [
  {
   "cell_type": "markdown",
   "id": "4185c974-a917-4bb2-92f7-018324f2e41f",
   "metadata": {},
   "source": [
    "# Recap of some fundamentals\n",
    "\n",
    "## Variable assignment\n",
    "\n",
    "* Names in Python are what most languages refer to as variables, or variable names\n",
    "* To save the value of an object for later use a name can be assigned to it\n",
    "* The assignment operator is `=`\n",
    "* Assignment is to bind a name to an object"
   ]
  },
  {
   "cell_type": "code",
   "execution_count": 1,
   "id": "3bb2f431-9576-4ae5-938a-62b09ad0aaa9",
   "metadata": {},
   "outputs": [],
   "source": [
    "a = 2"
   ]
  },
  {
   "attachments": {
    "assignment2.png": {
     "image/png": "[encoded data removed]"
    }
   },
   "cell_type": "markdown",
   "id": "d0e5bcd7",
   "metadata": {},
   "source": [
    "![assignment2.png](attachment:assignment2.png)"
   ]
  },
  {
   "cell_type": "markdown",
   "id": "acc40677-c220-40be-9ff6-078f56f433cb",
   "metadata": {},
   "source": [
    "### Variables in functions: scope\n",
    "\n",
    "Consider the function definition"
   ]
  },
  {
   "cell_type": "code",
   "execution_count": null,
   "id": "a5db070e-1447-43f0-9559-7e25820dded8",
   "metadata": {},
   "outputs": [],
   "source": [
    "a = 2\n",
    "\n",
    "def square(x):\n",
    "    x2 = a * x * x\n",
    "    return x2"
   ]
  },
  {
   "cell_type": "markdown",
   "id": "2c3f1685-0d4c-48c8-ba11-56a99d22dce9",
   "metadata": {},
   "source": [
    "* The cell defines two objects, a number (name `a`, type `int`) and a function (name `square`)\n",
    "\n",
    "* The lines in the function are not executed here, we only define what will happen when we execute (call) the function."
   ]
  },
  {
   "cell_type": "code",
   "execution_count": null,
   "id": "c5a9402e-8562-4ecc-9c7b-d01d4c00b411",
   "metadata": {},
   "outputs": [],
   "source": [
    "result = square(8)\n",
    "result"
   ]
  },
  {
   "cell_type": "markdown",
   "id": "7d272082-a29b-46f5-b59c-1e5a3b35931e",
   "metadata": {},
   "source": [
    "What about the other variables? We can print the value of `a`"
   ]
  },
  {
   "cell_type": "code",
   "execution_count": null,
   "id": "dd0e59be-54aa-4a55-9594-d077a093f031",
   "metadata": {},
   "outputs": [],
   "source": [
    "print(a)"
   ]
  },
  {
   "cell_type": "markdown",
   "id": "d78a587f-f335-4933-a921-17dd01a973e0",
   "metadata": {},
   "source": [
    "How about x2? You would get a `NameError`"
   ]
  },
  {
   "cell_type": "code",
   "execution_count": null,
   "id": "bddaa006-5a0e-4625-a779-506d39610ccd",
   "metadata": {},
   "outputs": [],
   "source": [
    "#print(x2)"
   ]
  },
  {
   "cell_type": "markdown",
   "id": "c80c7587-cde2-4873-ae88-ef7d0b717563",
   "metadata": {},
   "source": [
    "~~~\n",
    "print(x2)\n",
    "---------------------------------------------------------------------------\n",
    "NameError                                 Traceback (most recent call last)\n",
    "Cell In[15], line 1\n",
    "----> 1 print(x2)\n",
    "\n",
    "NameError: name 'x2' is not defined\n",
    "~~~"
   ]
  },
  {
   "cell_type": "markdown",
   "id": "dd753d95-3865-4e17-8870-bf7b563d2bfc",
   "metadata": {},
   "source": [
    "\n",
    "* `a` has global scope (can be used anywhere inside the notebook)\n",
    "* `x2` has local scope (definitions inside a function are not available outside the function)\n",
    "\n",
    "when we call square(8) what happes is roughly\n",
    "\n",
    "*  square(8)\n",
    "    *  x = 8\n",
    "    *  x2 = 2 * 8 * 8 = 128\n",
    "    *  return 128\n",
    "    *  local names x, x2 are deleted\n",
    "*  result = 128"
   ]
  },
  {
   "cell_type": "markdown",
   "id": "bb55a7c7-e556-4476-a8ce-5df43a8cadf1",
   "metadata": {},
   "source": [
    "Call by value or reference?\n",
    "\n",
    "* In computer languages data are input to a function either by value (copied data) or by reference.\n",
    "* In Python it is essentially call by reference (some prefere to say call by assignment).\n",
    "* This is particularly important with input that can change (mutable).\n",
    "\n",
    "Example\n"
   ]
  },
  {
   "cell_type": "code",
   "execution_count": 1,
   "id": "9dac1d6e-3f41-4e55-8fd3-5fda8ead1db2",
   "metadata": {},
   "outputs": [
    {
     "name": "stdout",
     "output_type": "stream",
     "text": [
      "molecule: ['H']\n",
      "molecule: ['H', 'O']\n",
      "atoms: ['H', 'O']\n"
     ]
    }
   ],
   "source": [
    "def add_atom(molecule, atom):\n",
    "    molecule.append(atom)\n",
    "    print('molecule:', molecule)\n",
    "\n",
    "atoms = []\n",
    "add_atom(atoms, 'H')\n",
    "add_atom(atoms, 'O')\n",
    "print('atoms:', atoms)"
   ]
  },
  {
   "cell_type": "markdown",
   "id": "3ffd4e88-f3e7-4658-8ff3-6f31e47c70b9",
   "metadata": {},
   "source": [
    "* Call-by-reference means that changes to an object inside a function (here `molecule`) that has been passed as an input argument to the function (`atoms`) will be permanent.\n",
    "* Inside the function `molecule` and `atoms` are two references to the same object."
   ]
  },
  {
   "cell_type": "markdown",
   "id": "053a4a36-9794-4a7f-8f9e-95af6e1a4e3c",
   "metadata": {},
   "source": [
    "### Variables in loops"
   ]
  },
  {
   "cell_type": "markdown",
   "id": "523043db-404a-4b88-b41a-f40d4d6ee0b1",
   "metadata": {},
   "source": [
    "We have implicit variable assignment in a for loop. Consider the following situation where we have some degree of repetition"
   ]
  },
  {
   "cell_type": "code",
   "execution_count": null,
   "id": "bff5cd95-a471-4a7d-b29a-501f81a6b7e3",
   "metadata": {},
   "outputs": [],
   "source": [
    "print(1 * 7)\n",
    "print(2 * 7)\n",
    "print(3 * 7)"
   ]
  },
  {
   "cell_type": "markdown",
   "id": "f1458346-3b16-4e14-876e-0d3532296e5d",
   "metadata": {},
   "source": [
    "As we see a pattern here where one thing varies (1, 2, 3) and the rest is the same, this is a candidate for a loop.\n",
    "\n",
    "* The loop variable takes on the changing parts\n",
    "* The rest can be generalized to the body of the for loop.\n",
    "\n",
    "Explicitly we can write this as"
   ]
  },
  {
   "cell_type": "code",
   "execution_count": null,
   "id": "67b3e74a-8eac-43c6-8f8c-e6890c9dde06",
   "metadata": {},
   "outputs": [],
   "source": [
    "i = 1\n",
    "print(i * 7)\n",
    "i = 2\n",
    "print(i * 7)\n",
    "i = 3\n",
    "print(i * 7)"
   ]
  },
  {
   "cell_type": "markdown",
   "id": "fceee641-081a-48a7-bee4-ec686f5c8477",
   "metadata": {},
   "source": [
    "the parts that look the same (print) becomes the body of the loop"
   ]
  },
  {
   "cell_type": "code",
   "execution_count": null,
   "id": "11e22def-e94e-4941-a2a1-3f4d52b7c8db",
   "metadata": {},
   "outputs": [],
   "source": [
    "for i in [1, 2, 3]:\n",
    "    print(i * 7)"
   ]
  },
  {
   "cell_type": "markdown",
   "id": "4734bf53-773d-445c-b210-211c29dd7c32",
   "metadata": {},
   "source": [
    "The loop implicitly involves an assignment to the loop variable, which takes on the values in the sequence one at a time"
   ]
  },
  {
   "cell_type": "markdown",
   "id": "1baf71a9-4a89-45d2-9a67-abca80d22a6e",
   "metadata": {},
   "source": [
    "## modules and import\n",
    "When we have written code to be reused by others (including you) it may be saved in a plain-text file with the extension `.py`. This will become a Python module that we can import in other code.\n",
    "\n",
    "Let us first save the cell with the function to a text file"
   ]
  },
  {
   "cell_type": "code",
   "execution_count": null,
   "id": "5c1ec2b3-c052-4ac5-a2ef-abb4054703de",
   "metadata": {},
   "outputs": [],
   "source": [
    "%%file \"mymodule.py\"\n",
    "a = 2\n",
    "\n",
    "def square(x):\n",
    "    x2 = a * x * x\n",
    "    return x2"
   ]
  },
  {
   "cell_type": "markdown",
   "id": "feb1d734-8f47-4e96-9353-8c97a517773e",
   "metadata": {},
   "source": [
    "Now we have something we can import. During an import two things happen:\n",
    "\n",
    "* all code in the file is executed\n",
    "* the global names defined in the file will be available in a so called module namespace"
   ]
  },
  {
   "cell_type": "code",
   "execution_count": null,
   "id": "ac08b4e3-9cac-4550-982e-931143c93caa",
   "metadata": {},
   "outputs": [],
   "source": [
    "import mymodule\n",
    "print(mymodule.a)\n",
    "print(mymodule.square(8))"
   ]
  },
  {
   "cell_type": "markdown",
   "id": "9fba91e4-281a-493a-844b-0e31ae53d5ad",
   "metadata": {},
   "source": [
    "An elaboration of the `square` function above is"
   ]
  },
  {
   "cell_type": "code",
   "execution_count": null,
   "id": "3686d24c-e922-4950-b6d5-37f33eaafb63",
   "metadata": {},
   "outputs": [],
   "source": [
    "%%file \"mymodule1.py\"\n",
    "import sys\n",
    "\n",
    "a = 2\n",
    "\n",
    "def square(x):\n",
    "    x2 = a * x * x\n",
    "    return x2\n",
    "\n",
    "if __name__ == \"__main__\":  # skip this during import\n",
    "    if len(sys.argv) > 1:\n",
    "        n = int(sys.argv[1])\n",
    "        print(square(n))\n",
    "    else:\n",
    "        print(f\"Usage: {sys.argv[0]} <number>\")\n"
   ]
  },
  {
   "cell_type": "markdown",
   "id": "cdd364f7-a791-49b0-ada8-1773289e4bd7",
   "metadata": {},
   "source": [
    "This demonstrates a common pattern in python files that are both used as independent programs"
   ]
  },
  {
   "cell_type": "code",
   "execution_count": null,
   "id": "2afab366-7d07-4dff-a7bd-2e9bc2a7e96d",
   "metadata": {},
   "outputs": [],
   "source": [
    "!python mymodule1.py 8"
   ]
  },
  {
   "cell_type": "markdown",
   "id": "2b103351-de0e-4bee-8a2f-dc3e31ac2653",
   "metadata": {},
   "source": [
    "and as modules for others to import"
   ]
  },
  {
   "cell_type": "code",
   "execution_count": null,
   "id": "1fc99629-bd67-42f2-8962-86fd93ab48c3",
   "metadata": {},
   "outputs": [],
   "source": [
    "import mymodule1\n",
    "print(mymodule1.square(8))"
   ]
  },
  {
   "cell_type": "markdown",
   "id": "9affe4fb-1194-4879-bf5c-6facb47ce37f",
   "metadata": {},
   "source": [
    "What makes this possible? The builtin variable `__name__` has different values in the two cases"
   ]
  },
  {
   "cell_type": "code",
   "execution_count": null,
   "id": "cfc976ef-9a6d-4426-9a07-0b072ca73dd7",
   "metadata": {},
   "outputs": [],
   "source": [
    "%%file \"name_main_demo.py\"\n",
    "print('__name__:', __name__)"
   ]
  },
  {
   "cell_type": "code",
   "execution_count": null,
   "id": "2ad1ee5f-87b0-4fef-91d1-3868f3343dc4",
   "metadata": {},
   "outputs": [],
   "source": [
    "!python name_main_demo.py\n",
    "import name_main_demo"
   ]
  },
  {
   "cell_type": "markdown",
   "id": "2e6f466d-7e06-48b2-bb97-7ba7caa8dc61",
   "metadata": {},
   "source": [
    "## Classes example"
   ]
  },
  {
   "cell_type": "markdown",
   "id": "519da91d-5f8a-429c-8a6b-b65dab08bc89",
   "metadata": {},
   "source": [
    "A second elaboration is to write the same in a context of a class"
   ]
  },
  {
   "cell_type": "code",
   "execution_count": null,
   "id": "a406d2aa-18f4-4664-9269-1924d8a8ad97",
   "metadata": {},
   "outputs": [],
   "source": [
    "%%file mymodule2.py\n",
    "import sys\n",
    "\n",
    "class MyMath:\n",
    "    # a = 2 # class variable\n",
    "    def __init__(self, a):\n",
    "        self.a = a   # instance variable\n",
    "\n",
    "    def square(self, x):\n",
    "        x2 = self.a * x * x\n",
    "        return x2\n",
    "\n",
    "if __name__ == \"__main__\":  # skip this during import\n",
    "    if len(sys.argv) > 1:\n",
    "        n = int(sys.argv[1])\n",
    "        my_math = MyMath()\n",
    "        \n",
    "        print(my_math.square(n))\n",
    "        print(MyMath.square(my_math, n))\n",
    "    else:\n",
    "        print(f\"Usage: {sys.argv[0]} <number>\")\n"
   ]
  },
  {
   "cell_type": "markdown",
   "id": "3d276872-7050-4735-8ea2-fcff4f9ac846",
   "metadata": {},
   "source": [
    "In this example we have changed a to be an instance variable of the class. Its value is set during initialization of a new object, and will generally be differnt for differnent objects"
   ]
  },
  {
   "cell_type": "code",
   "execution_count": null,
   "id": "ec3ccec0-37f2-422e-bb54-abd4d2c71aba",
   "metadata": {},
   "outputs": [],
   "source": [
    "import mymodule2"
   ]
  },
  {
   "cell_type": "code",
   "execution_count": null,
   "id": "74619f8e-ed4f-4858-91d3-f39e25276e12",
   "metadata": {},
   "outputs": [],
   "source": [
    "mm1 = mymodule2.MyMath(1)\n",
    "\n",
    "print(mm1.square(8))\n",
    "print(mm1.a)"
   ]
  },
  {
   "cell_type": "code",
   "execution_count": null,
   "id": "d80f6281-c10d-4d91-ab5f-540848b337f3",
   "metadata": {},
   "outputs": [],
   "source": [
    "mm2 = mymodule2.MyMath(2)\n",
    "\n",
    "print(mm2.square(8))\n",
    "print(mm2.a)"
   ]
  },
  {
   "cell_type": "markdown",
   "id": "158bce48-be41-4df3-ba7a-c5b1898a625b",
   "metadata": {},
   "source": [
    "### Variable assignment in a class method call\n",
    "\n",
    "During assigmnent in a class method call the following assignments are implied:\n",
    "\n",
    "~~~\n",
    "* mm2.square(8)\n",
    "    * self = mm2\n",
    "    * x = 8\n",
    "    * x2 = 2 * 8 * 8\n",
    "    * return 128\n",
    "~~~\n"
   ]
  }
 ],
 "metadata": {
  "kernelspec": {
   "display_name": "Python 3 (ipykernel)",
   "language": "python",
   "name": "python3"
  },
  "language_info": {
   "codemirror_mode": {
    "name": "ipython",
    "version": 3
   },
   "file_extension": ".py",
   "mimetype": "text/x-python",
   "name": "python",
   "nbconvert_exporter": "python",
   "pygments_lexer": "ipython3",
   "version": "3.12.0"
  }
 },
 "nbformat": 4,
 "nbformat_minor": 5
}
